{
 "cells": [
  {
   "cell_type": "markdown",
   "metadata": {},
   "source": [
    "# Communities within Sport, Gesundheit and Lifestyle Topic of derStandard"
   ]
  },
  {
   "cell_type": "code",
   "execution_count": 1,
   "metadata": {},
   "outputs": [],
   "source": [
    "import pandas as pd\n",
    "import numpy as np\n",
    "from tqdm import tqdm\n",
    "import matplotlib.pyplot as plt\n",
    "import networkx as nx\n",
    "from utils import *"
   ]
  },
  {
   "cell_type": "code",
   "execution_count": 2,
   "metadata": {},
   "outputs": [],
   "source": [
    "%load_ext autoreload\n",
    "%autoreload 2"
   ]
  },
  {
   "cell_type": "markdown",
   "metadata": {},
   "source": [
    "## Load Data, filter and build graph"
   ]
  },
  {
   "cell_type": "code",
   "execution_count": 3,
   "metadata": {},
   "outputs": [
    {
     "data": {
      "text/plain": [
       "ArticleChannel\n",
       "Inland           188069\n",
       "Panorama          98391\n",
       "Meinung           96008\n",
       "Web               59589\n",
       "International     55911\n",
       "Wirtschaft        50755\n",
       "Sport             40396\n",
       "Etat              34890\n",
       "Kultur            24013\n",
       "User              12760\n",
       "Wissenschaft      12565\n",
       "Lifestyle         11124\n",
       "Gesundheit        10490\n",
       "Bildung            7942\n",
       "dieStandard        7527\n",
       "AutoMobil          6366\n",
       "Immobilien         5071\n",
       "Diverses           4597\n",
       "Zukunft            4228\n",
       "Reisen             3285\n",
       "Familie            2658\n",
       "Karriere           2459\n",
       "Name: count, dtype: int64"
      ]
     },
     "execution_count": 3,
     "metadata": {},
     "output_type": "execute_result"
    }
   ],
   "source": [
    "df = load_data()\n",
    "df['ArticleChannel'].value_counts()"
   ]
  },
  {
   "cell_type": "code",
   "execution_count": 4,
   "metadata": {},
   "outputs": [
    {
     "name": "stdout",
     "output_type": "stream",
     "text": [
      "Number of selected users: 1432\n"
     ]
    }
   ],
   "source": [
    "# select categories to analyze\n",
    "channels = ['Gesundheit', 'Sport', 'Lifestyle']\n",
    "\n",
    "filtered_df, articles_per_user, selected_users = filter_users(df, channels, min_articles=5)\n",
    "print(f\"Number of selected users: {len(selected_users)}\")"
   ]
  },
  {
   "cell_type": "code",
   "execution_count": 5,
   "metadata": {},
   "outputs": [
    {
     "name": "stderr",
     "output_type": "stream",
     "text": [
      "  1%|          | 9/1432 [00:00<00:17, 82.58it/s]"
     ]
    },
    {
     "name": "stderr",
     "output_type": "stream",
     "text": [
      "100%|██████████| 1432/1432 [00:05<00:00, 239.91it/s]\n"
     ]
    }
   ],
   "source": [
    "# create graph\n",
    "weights = iom(selected_users, articles_per_user)\n",
    "threshold = np.percentile(weights.flatten(), 95)\n",
    "graph = build_graph(selected_users, weights, 0.2)"
   ]
  },
  {
   "cell_type": "code",
   "execution_count": 6,
   "metadata": {},
   "outputs": [
    {
     "name": "stdout",
     "output_type": "stream",
     "text": [
      "ArticleChannel\n",
      "Sport         0.750755\n",
      "Lifestyle     0.133838\n",
      "Gesundheit    0.115407\n",
      "Name: count, dtype: float64\n"
     ]
    }
   ],
   "source": [
    "# print distribution of comments in the selected categories\n",
    "category_comments_percentage = filtered_df['ArticleChannel'].value_counts().div(len(filtered_df))\n",
    "print(category_comments_percentage)"
   ]
  },
  {
   "cell_type": "markdown",
   "metadata": {},
   "source": [
    "## Greedy Modularity"
   ]
  },
  {
   "cell_type": "code",
   "execution_count": 8,
   "metadata": {},
   "outputs": [
    {
     "name": "stdout",
     "output_type": "stream",
     "text": [
      "Number of communities: 4\n",
      " Sizes of the communities: [524, 510, 381, 17]\n"
     ]
    }
   ],
   "source": [
    "communities = nx.community.modularity_max.greedy_modularity_communities(graph, 'weight')\n",
    "print(f\"Number of communities: {len(communities)}\")\n",
    "print(f\" Sizes of the communities: {[len(c) for c in communities]}\")"
   ]
  },
  {
   "cell_type": "code",
   "execution_count": 9,
   "metadata": {},
   "outputs": [
    {
     "data": {
      "text/html": [
       "<div>\n",
       "<style scoped>\n",
       "    .dataframe tbody tr th:only-of-type {\n",
       "        vertical-align: middle;\n",
       "    }\n",
       "\n",
       "    .dataframe tbody tr th {\n",
       "        vertical-align: top;\n",
       "    }\n",
       "\n",
       "    .dataframe thead th {\n",
       "        text-align: right;\n",
       "    }\n",
       "</style>\n",
       "<table border=\"1\" class=\"dataframe\">\n",
       "  <thead>\n",
       "    <tr style=\"text-align: right;\">\n",
       "      <th></th>\n",
       "      <th>Sport</th>\n",
       "      <th>Gesundheit</th>\n",
       "      <th>Lifestyle</th>\n",
       "    </tr>\n",
       "  </thead>\n",
       "  <tbody>\n",
       "    <tr>\n",
       "      <th>0</th>\n",
       "      <td>0.947098</td>\n",
       "      <td>0.018519</td>\n",
       "      <td>0.034384</td>\n",
       "    </tr>\n",
       "    <tr>\n",
       "      <th>1</th>\n",
       "      <td>0.870919</td>\n",
       "      <td>0.053957</td>\n",
       "      <td>0.075125</td>\n",
       "    </tr>\n",
       "    <tr>\n",
       "      <th>2</th>\n",
       "      <td>0.143181</td>\n",
       "      <td>0.418668</td>\n",
       "      <td>0.438151</td>\n",
       "    </tr>\n",
       "    <tr>\n",
       "      <th>3</th>\n",
       "      <td>0.965517</td>\n",
       "      <td>0.011494</td>\n",
       "      <td>0.022989</td>\n",
       "    </tr>\n",
       "  </tbody>\n",
       "</table>\n",
       "</div>"
      ],
      "text/plain": [
       "      Sport  Gesundheit  Lifestyle\n",
       "0  0.947098    0.018519   0.034384\n",
       "1  0.870919    0.053957   0.075125\n",
       "2  0.143181    0.418668   0.438151\n",
       "3  0.965517    0.011494   0.022989"
      ]
     },
     "execution_count": 9,
     "metadata": {},
     "output_type": "execute_result"
    }
   ],
   "source": [
    "# generate dataframe with number of comments (or a weighted variant, if normalized) per category for each community\n",
    "community_comments_df = comments_in_category_per_community(communities,\n",
    "                                                           filtered_df,\n",
    "                                                           percentage=True,\n",
    "                                                           weight_by_category_distribution=False)\n",
    "community_comments_df.head(5)"
   ]
  },
  {
   "cell_type": "code",
   "execution_count": 10,
   "metadata": {},
   "outputs": [
    {
     "data": {
      "image/png": "[encoded data removed]",
      "text/plain": [
       "<Figure size 640x480 with 1 Axes>"
      ]
     },
     "metadata": {},
     "output_type": "display_data"
    }
   ],
   "source": [
    "# plot and save results\n",
    "plot = community_comments_df.plot(kind='bar',\n",
    "                                  stacked=True,\n",
    "                                  colormap='Paired',\n",
    "                                  xlabel='Community ',\n",
    "                                  ylabel='Category of comments (in %)').legend(bbox_to_anchor=(1.0, 1.0), fontsize='small')"
   ]
  },
  {
   "cell_type": "code",
   "execution_count": 11,
   "metadata": {},
   "outputs": [
    {
     "data": {
      "image/png": "[encoded data removed]",
      "text/plain": [
       "<Figure size 640x480 with 1 Axes>"
      ]
     },
     "metadata": {},
     "output_type": "display_data"
    }
   ],
   "source": [
    "plot_gender_per_community(communities, filtered_df)"
   ]
  },
  {
   "cell_type": "code",
   "execution_count": null,
   "metadata": {},
   "outputs": [
    {
     "data": {
      "text/plain": [
       "<Axes: xlabel='UserGender'>"
      ]
     },
     "execution_count": 46,
     "metadata": {},
     "output_type": "execute_result"
    },
    {
     "data": {
      "image/png": "[encoded data removed]",
      "text/plain": [
       "<Figure size 640x480 with 1 Axes>"
      ]
     },
     "metadata": {},
     "output_type": "display_data"
    }
   ],
   "source": [
    "x = df[['ID_CommunityIdentity', 'UserGender']].drop_duplicates()\n",
    "x['UserGender'].fillna('u', inplace=True)\n",
    "x.groupby('UserGender').size().plot(kind='bar')\n"
   ]
  },
  {
   "cell_type": "markdown",
   "metadata": {},
   "source": [
    "## Louvain community"
   ]
  },
  {
   "cell_type": "code",
   "execution_count": 12,
   "metadata": {},
   "outputs": [
    {
     "name": "stdout",
     "output_type": "stream",
     "text": [
      "Number of communities: 6\n",
      "Sizes of the communities: [286, 228, 473, 19, 381, 45]\n"
     ]
    }
   ],
   "source": [
    "communities = nx.community.louvain_communities(graph, weight='weight')\n",
    "communities = list(communities)\n",
    "print(f\"Number of communities: {len(communities)}\")\n",
    "print(f\"Sizes of the communities: {[len(c) for c in communities]}\")"
   ]
  },
  {
   "cell_type": "code",
   "execution_count": 13,
   "metadata": {},
   "outputs": [
    {
     "data": {
      "text/html": [
       "<div>\n",
       "<style scoped>\n",
       "    .dataframe tbody tr th:only-of-type {\n",
       "        vertical-align: middle;\n",
       "    }\n",
       "\n",
       "    .dataframe tbody tr th {\n",
       "        vertical-align: top;\n",
       "    }\n",
       "\n",
       "    .dataframe thead th {\n",
       "        text-align: right;\n",
       "    }\n",
       "</style>\n",
       "<table border=\"1\" class=\"dataframe\">\n",
       "  <thead>\n",
       "    <tr style=\"text-align: right;\">\n",
       "      <th></th>\n",
       "      <th>Sport</th>\n",
       "      <th>Gesundheit</th>\n",
       "      <th>Lifestyle</th>\n",
       "    </tr>\n",
       "  </thead>\n",
       "  <tbody>\n",
       "    <tr>\n",
       "      <th>0</th>\n",
       "      <td>0.933490</td>\n",
       "      <td>0.026276</td>\n",
       "      <td>0.040235</td>\n",
       "    </tr>\n",
       "    <tr>\n",
       "      <th>1</th>\n",
       "      <td>0.928224</td>\n",
       "      <td>0.028271</td>\n",
       "      <td>0.043506</td>\n",
       "    </tr>\n",
       "    <tr>\n",
       "      <th>2</th>\n",
       "      <td>0.228909</td>\n",
       "      <td>0.371560</td>\n",
       "      <td>0.399531</td>\n",
       "    </tr>\n",
       "    <tr>\n",
       "      <th>3</th>\n",
       "      <td>0.964286</td>\n",
       "      <td>0.010989</td>\n",
       "      <td>0.024725</td>\n",
       "    </tr>\n",
       "    <tr>\n",
       "      <th>4</th>\n",
       "      <td>0.945844</td>\n",
       "      <td>0.019072</td>\n",
       "      <td>0.035084</td>\n",
       "    </tr>\n",
       "  </tbody>\n",
       "</table>\n",
       "</div>"
      ],
      "text/plain": [
       "      Sport  Gesundheit  Lifestyle\n",
       "0  0.933490    0.026276   0.040235\n",
       "1  0.928224    0.028271   0.043506\n",
       "2  0.228909    0.371560   0.399531\n",
       "3  0.964286    0.010989   0.024725\n",
       "4  0.945844    0.019072   0.035084"
      ]
     },
     "execution_count": 13,
     "metadata": {},
     "output_type": "execute_result"
    }
   ],
   "source": [
    "# generate dataframe with number of comments (or a weighted variant, if normalized) per category for each community\n",
    "community_comments_df = comments_in_category_per_community(communities,\n",
    "                                                           filtered_df,\n",
    "                                                           percentage=True,\n",
    "                                                           weight_by_category_distribution=False)\n",
    "community_comments_df.head(5)"
   ]
  },
  {
   "cell_type": "code",
   "execution_count": 14,
   "metadata": {},
   "outputs": [
    {
     "data": {
      "image/png": "[encoded data removed]",
      "text/plain": [
       "<Figure size 640x480 with 1 Axes>"
      ]
     },
     "metadata": {},
     "output_type": "display_data"
    }
   ],
   "source": [
    "# plot and save results\n",
    "plot = community_comments_df.plot(kind='bar',\n",
    "                                  stacked=True,\n",
    "                                  colormap='Paired',\n",
    "                                  xlabel='Community ',\n",
    "                                  ylabel='Category of comments (in %)').legend(bbox_to_anchor=(1.0, 1.0), fontsize='small')"
   ]
  },
  {
   "cell_type": "code",
   "execution_count": 15,
   "metadata": {},
   "outputs": [
    {
     "data": {
      "image/png": "[encoded data removed]",
      "text/plain": [
       "<Figure size 640x480 with 1 Axes>"
      ]
     },
     "metadata": {},
     "output_type": "display_data"
    }
   ],
   "source": [
    "plot_gender_per_community(communities, filtered_df)"
   ]
  },
  {
   "cell_type": "code",
   "execution_count": null,
   "metadata": {},
   "outputs": [],
   "source": []
  }
 ],
 "metadata": {
  "kernelspec": {
   "display_name": ".venv",
   "language": "python",
   "name": "python3"
  },
  "language_info": {
   "codemirror_mode": {
    "name": "ipython",
    "version": 3
   },
   "file_extension": ".py",
   "mimetype": "text/x-python",
   "name": "python",
   "nbconvert_exporter": "python",
   "pygments_lexer": "ipython3",
   "version": "3.10.12"
  }
 },
 "nbformat": 4,
 "nbformat_minor": 2
}
