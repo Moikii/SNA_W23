{
 "cells": [
  {
   "cell_type": "code",
   "execution_count": 8,
   "metadata": {},
   "outputs": [],
   "source": [
    "import pandas as pd\n",
    "import numpy as np\n",
    "import networkx as nx\n",
    "from utils import *\n",
    "from algo_evaluation import *"
   ]
  },
  {
   "cell_type": "code",
   "execution_count": 9,
   "metadata": {},
   "outputs": [],
   "source": [
    "%load_ext autoreload\n",
    "%autoreload 2"
   ]
  },
  {
   "cell_type": "code",
   "execution_count": 11,
   "metadata": {},
   "outputs": [],
   "source": [
    "df = load_data(\"./data/\")"
   ]
  },
  {
   "cell_type": "code",
   "execution_count": 12,
   "metadata": {},
   "outputs": [],
   "source": [
    "\n",
    "def greedy_modularity_communities(graph: nx.Graph):\n",
    "    \"\"\"\n",
    "    Perform the greedy modularity algorithm with weights.\n",
    "    \"\"\"\n",
    "    return list(nx.algorithms.community.greedy_modularity_communities(graph, weight='weight'))\n",
    "\n",
    "\n",
    "\n",
    "def label_propagation_communities(graph: nx.Graph):\n",
    "    \"\"\"\n",
    "    Perform the label propagation algorithm.\n",
    "    \"\"\"\n",
    "    return list(nx.algorithms.community.asyn_lpa_communities(graph, weight='weight'))\n",
    "\n",
    "\n",
    "def girvan_newmann_communities(graph: nx.Graph):\n",
    "    \"\"\"\n",
    "    Perform the girvan newmann algorithm.\n",
    "    \"\"\"\n",
    "    communities = nx.community.girvan_newman(graph)\n",
    "    communities = next(communities)     # take the first split (maybe extend this)\n",
    "    return list(communities)\n",
    "\n",
    "\n",
    "def girvan_newman_with_weights(graph: nx.Graph):\n",
    "    \"\"\"\n",
    "    Perform the girvan newmann algorithm with weights.\n",
    "    \"\"\"\n",
    "    def most_valuable_edge(G):\n",
    "        \"\"\"Returns the edge with the highest betweenness centrality\n",
    "        in the graph `G`.\n",
    "\n",
    "        \"\"\"\n",
    "        betweenness = nx.edge_betweenness_centrality(G, weight='distance')\n",
    "        return max(betweenness, key=betweenness.get)\n",
    "    \n",
    "    first_node = list(graph.nodes)[0]\n",
    "    if 'distance' not in graph.nodes[first_node]:\n",
    "        weights = nx.get_edge_attributes(graph, 'weight').values()\n",
    "        inverse_weights = [1 / weight for weight in weights]\n",
    "        nx.set_edge_attributes(graph, dict(zip(graph.edges, inverse_weights)), 'distance')\n",
    "\n",
    "    communities = nx.community.girvan_newman(graph, most_valuable_edge=most_valuable_edge)\n",
    "    communities = next(communities)     # take the first split (maybe extend this)\n",
    "    return list(communities)\n",
    "    \n",
    "\n",
    "def louvain_communities(graph: nx.Graph):\n",
    "    \"\"\"\n",
    "    Perform the louvain algorithm.\n",
    "    \"\"\"\n",
    "    return list(nx.algorithms.community.louvain_communities(graph, weight='weight'))\n",
    "\n",
    "\n",
    "\n",
    "algos = {\n",
    "    'Greedy Modularity': greedy_modularity_communities,\n",
    "    'Label Propagation': label_propagation_communities,\n",
    "    'Girvan Newman': girvan_newmann_communities,\n",
    "    'Girvan Newman with Weights': girvan_newman_with_weights,\n",
    "    'Louvain': louvain_communities\n",
    "}\n"
   ]
  },
  {
   "cell_type": "code",
   "execution_count": 13,
   "metadata": {},
   "outputs": [
    {
     "name": "stdout",
     "output_type": "stream",
     "text": [
      "Number of selected users: 100\n"
     ]
    },
    {
     "name": "stderr",
     "output_type": "stream",
     "text": [
      "100%|██████████| 100/100 [00:00<00:00, 3663.66it/s]"
     ]
    },
    {
     "name": "stdout",
     "output_type": "stream",
     "text": [
      "Threshold: 0.0\n",
      "Running Greedy Modularity...\n"
     ]
    },
    {
     "name": "stderr",
     "output_type": "stream",
     "text": [
      "\n"
     ]
    },
    {
     "name": "stdout",
     "output_type": "stream",
     "text": [
      "Running Label Propagation...\n",
      "Running Girvan Newman...\n",
      "Running Girvan Newman with Weights...\n",
      "Running Louvain...\n",
      "Number of selected users: 200\n"
     ]
    },
    {
     "name": "stderr",
     "output_type": "stream",
     "text": [
      "100%|██████████| 200/200 [00:00<00:00, 1806.91it/s]"
     ]
    },
    {
     "name": "stdout",
     "output_type": "stream",
     "text": [
      "Threshold: 0.0\n",
      "Running Greedy Modularity...\n"
     ]
    },
    {
     "name": "stderr",
     "output_type": "stream",
     "text": [
      "\n"
     ]
    },
    {
     "name": "stdout",
     "output_type": "stream",
     "text": [
      "Running Label Propagation...\n",
      "Running Girvan Newman...\n",
      "Running Girvan Newman with Weights...\n",
      "Algorithm Girvan Newman with Weights timed out.\n",
      "Running Louvain...\n",
      "Number of selected users: 500\n"
     ]
    },
    {
     "name": "stderr",
     "output_type": "stream",
     "text": [
      "100%|██████████| 500/500 [00:00<00:00, 740.84it/s]\n"
     ]
    },
    {
     "name": "stdout",
     "output_type": "stream",
     "text": [
      "Threshold: 0.0\n",
      "Running Greedy Modularity...\n",
      "Running Label Propagation...\n",
      "Running Girvan Newman...\n",
      "Running Girvan Newman with Weights...\n",
      "Algorithm Girvan Newman with Weights timed out.\n",
      "Running Louvain...\n",
      "Number of selected users: 1000\n"
     ]
    },
    {
     "name": "stderr",
     "output_type": "stream",
     "text": [
      "100%|██████████| 1000/1000 [00:02<00:00, 379.02it/s]\n"
     ]
    },
    {
     "name": "stdout",
     "output_type": "stream",
     "text": [
      "Threshold: 0.0\n",
      "Running Greedy Modularity...\n",
      "Running Label Propagation...\n",
      "Running Girvan Newman...\n",
      "Algorithm Girvan Newman timed out.\n",
      "Running Girvan Newman with Weights...\n",
      "Algorithm Girvan Newman with Weights timed out.\n",
      "Running Louvain...\n",
      "Number of selected users: 1144\n"
     ]
    },
    {
     "name": "stderr",
     "output_type": "stream",
     "text": [
      "100%|██████████| 1144/1144 [00:03<00:00, 309.31it/s]\n"
     ]
    },
    {
     "name": "stdout",
     "output_type": "stream",
     "text": [
      "Threshold: 0.0\n",
      "Running Greedy Modularity...\n",
      "Running Label Propagation...\n",
      "Running Girvan Newman...\n",
      "Algorithm Girvan Newman timed out.\n",
      "Running Girvan Newman with Weights...\n",
      "Algorithm Girvan Newman with Weights timed out.\n",
      "Running Louvain...\n"
     ]
    }
   ],
   "source": [
    "# select categories to analyze\n",
    "channels = ['Sport']\n",
    "\n",
    "results_over_num_users = {}\n",
    "timeout = 60*10\n",
    "\n",
    "for num_users in [100, 200, 500, 1000, 2000]:\n",
    "\n",
    "    filtered_df, articles_per_user, selected_users = filter_users(df, channels, min_articles=4, max_num_users=num_users)\n",
    "    print(f\"Number of selected users: {len(selected_users)}\")\n",
    "\n",
    "    # create graph\n",
    "    weights = iom(selected_users, articles_per_user)\n",
    "    threshold = np.percentile(weights.flatten(), 75)\n",
    "    print(f\"Threshold: {threshold}\")\n",
    "    graph = build_graph(selected_users, weights, threshold)\n",
    "\n",
    "    results = perform_algos(graph, algos, True, timeout)\n",
    "\n",
    "    results_over_num_users[len(selected_users)] = results"
   ]
  },
  {
   "cell_type": "code",
   "execution_count": 15,
   "metadata": {},
   "outputs": [
    {
     "name": "stdout",
     "output_type": "stream",
     "text": [
      "Number of users: 100\n",
      "Greedy Modularity:\n",
      "            \tTime: 0.1621408462524414\n",
      "            \tModularity: 0.1628962778314541\n",
      "            \tNumber of communities: 4\n",
      "Label Propagation:\n",
      "            \tTime: 0.06281399726867676\n",
      "            \tModularity: -2.9976021664879227e-15\n",
      "            \tNumber of communities: 1\n",
      "Girvan Newman:\n",
      "            \tTime: 0.8417932987213135\n",
      "            \tModularity: -7.957152113314905e-06\n",
      "            \tNumber of communities: 2\n",
      "Girvan Newman with Weights:\n",
      "            \tTime: 16.05259656906128\n",
      "            \tModularity: -7.957152113314905e-06\n",
      "            \tNumber of communities: 2\n",
      "Louvain:\n",
      "            \tTime: 0.09161591529846191\n",
      "            \tModularity: 0.1675332898525525\n",
      "            \tNumber of communities: 5\n",
      "\n",
      "\n",
      "Number of users: 200\n",
      "Greedy Modularity:\n",
      "            \tTime: 0.4774501323699951\n",
      "            \tModularity: 0.1801240171095746\n",
      "            \tNumber of communities: 3\n",
      "Label Propagation:\n",
      "            \tTime: 0.11560654640197754\n",
      "            \tModularity: 1.709743457922741e-14\n",
      "            \tNumber of communities: 1\n",
      "Girvan Newman:\n",
      "            \tTime: 9.75510048866272\n",
      "            \tModularity: -7.236897301367037e-07\n",
      "            \tNumber of communities: 2\n",
      "Girvan Newman with Weights:\n",
      "            \tTime: None\n",
      "            \tModularity: None\n",
      "            \tNumber of communities: 0\n",
      "Louvain:\n",
      "            \tTime: 0.1761617660522461\n",
      "            \tModularity: 0.19436454151984583\n",
      "            \tNumber of communities: 4\n",
      "\n",
      "\n",
      "Number of users: 500\n",
      "Greedy Modularity:\n",
      "            \tTime: 3.2154529094696045\n",
      "            \tModularity: 0.1501193458980027\n",
      "            \tNumber of communities: 4\n",
      "Label Propagation:\n",
      "            \tTime: 0.4910862445831299\n",
      "            \tModularity: 1.092459456231154e-13\n",
      "            \tNumber of communities: 1\n",
      "Girvan Newman:\n",
      "            \tTime: 357.2445149421692\n",
      "            \tModularity: -9.869403395193169e-08\n",
      "            \tNumber of communities: 2\n",
      "Girvan Newman with Weights:\n",
      "            \tTime: None\n",
      "            \tModularity: None\n",
      "            \tNumber of communities: 0\n",
      "Louvain:\n",
      "            \tTime: 1.0109150409698486\n",
      "            \tModularity: 0.1756229258973125\n",
      "            \tNumber of communities: 5\n",
      "\n",
      "\n",
      "Number of users: 1000\n",
      "Greedy Modularity:\n",
      "            \tTime: 14.30197286605835\n",
      "            \tModularity: 0.15589632692077066\n",
      "            \tNumber of communities: 3\n",
      "Label Propagation:\n",
      "            \tTime: 1.979987621307373\n",
      "            \tModularity: -7.571721027943568e-13\n",
      "            \tNumber of communities: 1\n",
      "Girvan Newman:\n",
      "            \tTime: None\n",
      "            \tModularity: None\n",
      "            \tNumber of communities: 0\n",
      "Girvan Newman with Weights:\n",
      "            \tTime: None\n",
      "            \tModularity: None\n",
      "            \tNumber of communities: 0\n",
      "Louvain:\n",
      "            \tTime: 4.1748363971710205\n",
      "            \tModularity: 0.1871313423008932\n",
      "            \tNumber of communities: 5\n",
      "\n",
      "\n",
      "Number of users: 1144\n",
      "Greedy Modularity:\n",
      "            \tTime: 19.897092819213867\n",
      "            \tModularity: 0.16693119028592282\n",
      "            \tNumber of communities: 3\n",
      "Label Propagation:\n",
      "            \tTime: 2.6629748344421387\n",
      "            \tModularity: -1.5180079415699765e-12\n",
      "            \tNumber of communities: 1\n",
      "Girvan Newman:\n",
      "            \tTime: None\n",
      "            \tModularity: None\n",
      "            \tNumber of communities: 0\n",
      "Girvan Newman with Weights:\n",
      "            \tTime: None\n",
      "            \tModularity: None\n",
      "            \tNumber of communities: 0\n",
      "Louvain:\n",
      "            \tTime: 5.903196811676025\n",
      "            \tModularity: 0.18610906771928815\n",
      "            \tNumber of communities: 5\n",
      "\n",
      "\n"
     ]
    }
   ],
   "source": [
    "for num_users, results in results_over_num_users.items():\n",
    "    print(f\"Number of users: {num_users}\")\n",
    "    for algo, result in results.items():\n",
    "        print(f\"\"\"{algo}:\n",
    "            \\tTime: {result['runtime']}\n",
    "            \\tModularity: {result['modularity']}\n",
    "            \\tNumber of communities: {len(result['community']) if result['community'] else 0}\"\"\")\n",
    "    print(\"\\n\")"
   ]
  },
  {
   "cell_type": "code",
   "execution_count": 14,
   "metadata": {},
   "outputs": [
    {
     "name": "stdout",
     "output_type": "stream",
     "text": [
      "Dictionary saved to results.pickle\n"
     ]
    }
   ],
   "source": [
    "import pickle\n",
    "\n",
    "# File where you want to store the dictionary\n",
    "file_path = 'results.pickle'\n",
    "\n",
    "# Writing the dictionary to a pickle file\n",
    "with open(file_path, 'wb') as file:\n",
    "    pickle.dump(results_over_num_users, file)\n",
    "\n",
    "print(\"Dictionary saved to\", file_path)"
   ]
  },
  {
   "cell_type": "code",
   "execution_count": null,
   "metadata": {},
   "outputs": [],
   "source": []
  }
 ],
 "metadata": {
  "kernelspec": {
   "display_name": "Python 3 (ipykernel)",
   "language": "python",
   "name": "python3"
  },
  "language_info": {
   "codemirror_mode": {
    "name": "ipython",
    "version": 3
   },
   "file_extension": ".py",
   "mimetype": "text/x-python",
   "name": "python",
   "nbconvert_exporter": "python",
   "pygments_lexer": "ipython3",
   "version": "3.10.12"
  }
 },
 "nbformat": 4,
 "nbformat_minor": 4
}
