{
 "cells": [
  {
   "cell_type": "code",
   "execution_count": 1,
   "metadata": {},
   "outputs": [],
   "source": [
    "import pandas as pd\n",
    "import numpy as np\n",
    "import networkx as nx\n",
    "from utils import *\n",
    "from algo_evaluation import *"
   ]
  },
  {
   "cell_type": "code",
   "execution_count": 2,
   "metadata": {},
   "outputs": [],
   "source": [
    "%load_ext autoreload\n",
    "%autoreload 2"
   ]
  },
  {
   "cell_type": "code",
   "execution_count": 3,
   "metadata": {},
   "outputs": [],
   "source": [
    "df = load_data()\n"
   ]
  },
  {
   "cell_type": "code",
   "execution_count": 4,
   "metadata": {},
   "outputs": [
    {
     "name": "stdout",
     "output_type": "stream",
     "text": [
      "Number of selected users: 1478\n"
     ]
    }
   ],
   "source": [
    "# select categories to analyze\n",
    "channels = ['Wirtschaft']\n",
    "\n",
    "filtered_df, articles_per_user, selected_users = filter_users(df, channels, min_articles=4, max_num_users=2000)\n",
    "print(f\"Number of selected users: {len(selected_users)}\")"
   ]
  },
  {
   "cell_type": "code",
   "execution_count": 5,
   "metadata": {},
   "outputs": [
    {
     "name": "stderr",
     "output_type": "stream",
     "text": [
      "  0%|          | 0/1478 [00:00<?, ?it/s]"
     ]
    },
    {
     "name": "stderr",
     "output_type": "stream",
     "text": [
      "100%|██████████| 1478/1478 [00:05<00:00, 257.79it/s]\n"
     ]
    },
    {
     "name": "stdout",
     "output_type": "stream",
     "text": [
      "Threshold: 0.0\n"
     ]
    }
   ],
   "source": [
    "# create graph\n",
    "weights = iom(selected_users, articles_per_user)\n",
    "threshold = np.percentile(weights.flatten(), 75)\n",
    "print(f\"Threshold: {threshold}\")\n",
    "graph = build_graph(selected_users, weights, threshold)"
   ]
  },
  {
   "cell_type": "code",
   "execution_count": 6,
   "metadata": {},
   "outputs": [],
   "source": [
    "\n",
    "def greedy_modularity_communities(graph: nx.Graph):\n",
    "    \"\"\"\n",
    "    Perform the greedy modularity algorithm with weights.\n",
    "    \"\"\"\n",
    "    return list(nx.algorithms.community.greedy_modularity_communities(graph, weight='weight'))\n",
    "\n",
    "\n",
    "\n",
    "def label_propagation_communities(graph: nx.Graph):\n",
    "    \"\"\"\n",
    "    Perform the label propagation algorithm.\n",
    "    \"\"\"\n",
    "    return list(nx.algorithms.community.asyn_lpa_communities(graph, weight='weight'))\n",
    "\n",
    "\n",
    "def girvan_newmann_communities(graph: nx.Graph):\n",
    "    \"\"\"\n",
    "    Perform the girvan newmann algorithm.\n",
    "    \"\"\"\n",
    "    communities = nx.community.girvan_newman(graph)\n",
    "    communities = next(communities)     # take the first split (maybe extend this)\n",
    "    return list(communities)\n",
    "\n",
    "\n",
    "def girvan_newman_with_weights(graph: nx.Graph):\n",
    "    \"\"\"\n",
    "    Perform the girvan newmann algorithm with weights.\n",
    "    \"\"\"\n",
    "    def most_valuable_edge(G):\n",
    "        \"\"\"Returns the edge with the highest betweenness centrality\n",
    "        in the graph `G`.\n",
    "\n",
    "        \"\"\"\n",
    "        betweenness = nx.edge_betweenness_centrality(G, weight='distance')\n",
    "        return max(betweenness, key=betweenness.get)\n",
    "    \n",
    "    first_node = list(graph.nodes)[0]\n",
    "    if 'distance' not in graph.nodes[first_node]:\n",
    "        weights = nx.get_edge_attributes(graph, 'weight').values()\n",
    "        inverse_weights = [1 / weight for weight in weights]\n",
    "        nx.set_edge_attributes(graph, dict(zip(graph.edges, inverse_weights)), 'distance')\n",
    "\n",
    "    communities = nx.community.girvan_newman(graph, most_valuable_edge=most_valuable_edge)\n",
    "    communities = next(communities)     # take the first split (maybe extend this)\n",
    "    return list(communities)\n",
    "    \n",
    "\n",
    "def louvain_communities(graph: nx.Graph):\n",
    "    \"\"\"\n",
    "    Perform the louvain algorithm.\n",
    "    \"\"\"\n",
    "    return list(nx.algorithms.community.louvain_communities(graph, weight='weight'))\n",
    "\n",
    "\n",
    "\n",
    "algos = {\n",
    "    'Greedy Modularity': greedy_modularity_communities,\n",
    "    'Label Propagation': label_propagation_communities,\n",
    "    'Girvan Newman': girvan_newmann_communities,\n",
    "    'Girvan Newman with Weights': girvan_newman_with_weights,\n",
    "    'Louvain': louvain_communities\n",
    "}\n"
   ]
  },
  {
   "cell_type": "code",
   "execution_count": 10,
   "metadata": {},
   "outputs": [
    {
     "name": "stdout",
     "output_type": "stream",
     "text": [
      "Running Greedy Modularity...\n"
     ]
    },
    {
     "name": "stdout",
     "output_type": "stream",
     "text": [
      "Running Label Propagation...\n",
      "Running Girvan Newman...\n",
      "Algorithm Girvan Newman timed out.\n",
      "Running Girvan Newman with Weights...\n",
      "Algorithm Girvan Newman with Weights timed out.\n",
      "Running Louvain...\n"
     ]
    }
   ],
   "source": [
    "results = perform_algos(graph, algos, True, 60 * 5)"
   ]
  },
  {
   "cell_type": "code",
   "execution_count": 14,
   "metadata": {},
   "outputs": [
    {
     "name": "stdout",
     "output_type": "stream",
     "text": [
      "Greedy Modularity:\n",
      "          \tTime: 41.79936122894287\n",
      "          \tModularity: 0.0902575818685294\n",
      "          \tNumber of communities: 3\n",
      "Label Propagation:\n",
      "          \tTime: 5.032747507095337\n",
      "          \tModularity: -3.1101787811849135e-12\n",
      "          \tNumber of communities: 1\n",
      "Girvan Newman:\n",
      "          \tTime: None\n",
      "          \tModularity: None\n",
      "          \tNumber of communities: 0\n",
      "Girvan Newman with Weights:\n",
      "          \tTime: None\n",
      "          \tModularity: None\n",
      "          \tNumber of communities: 0\n",
      "Louvain:\n",
      "          \tTime: 14.463319063186646\n",
      "          \tModularity: 0.12378368300668167\n",
      "          \tNumber of communities: 5\n"
     ]
    }
   ],
   "source": [
    "for algo, result in results.items():\n",
    "    print(f\"\"\"{algo}:\n",
    "          \\tTime: {result['runtime']}\n",
    "          \\tModularity: {result['modularity']}\n",
    "          \\tNumber of communities: {len(result['community']) if result['community'] else 0}\"\"\")"
   ]
  },
  {
   "cell_type": "code",
   "execution_count": null,
   "metadata": {},
   "outputs": [],
   "source": []
  }
 ],
 "metadata": {
  "kernelspec": {
   "display_name": ".venv",
   "language": "python",
   "name": "python3"
  },
  "language_info": {
   "codemirror_mode": {
    "name": "ipython",
    "version": 3
   },
   "file_extension": ".py",
   "mimetype": "text/x-python",
   "name": "python",
   "nbconvert_exporter": "python",
   "pygments_lexer": "ipython3",
   "version": "3.10.12"
  }
 },
 "nbformat": 4,
 "nbformat_minor": 2
}
