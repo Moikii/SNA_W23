{
 "cells": [
  {
   "cell_type": "code",
   "execution_count": 2,
   "metadata": {
    "ExecuteTime": {
     "end_time": "2023-12-28T09:10:10.535152700Z",
     "start_time": "2023-12-28T09:10:10.375158900Z"
    }
   },
   "outputs": [],
   "source": [
    "import matplotlib.pyplot as plt\n",
    "import random\n",
    "import numpy as np"
   ]
  },
  {
   "cell_type": "code",
   "execution_count": 3,
   "metadata": {
    "ExecuteTime": {
     "end_time": "2023-12-28T09:10:11.392153600Z",
     "start_time": "2023-12-28T09:10:11.275159Z"
    }
   },
   "outputs": [],
   "source": [
    "%load_ext autoreload\n",
    "%autoreload 2"
   ]
  },
  {
   "cell_type": "code",
   "execution_count": 4,
   "metadata": {
    "ExecuteTime": {
     "end_time": "2023-12-28T09:10:12.156154800Z",
     "start_time": "2023-12-28T09:10:12.044151500Z"
    }
   },
   "outputs": [],
   "source": [
    "from utils import *"
   ]
  },
  {
   "cell_type": "markdown",
   "metadata": {},
   "source": [
    "# Explore derStandard.at Postings"
   ]
  },
  {
   "cell_type": "code",
   "outputs": [],
   "source": [
    "df = load_data()"
   ],
   "metadata": {
    "ExecuteTime": {
     "end_time": "2023-12-28T09:10:14.539149800Z",
     "start_time": "2023-12-28T09:10:14.337148700Z"
    }
   },
   "execution_count": 5
  },
  {
   "cell_type": "code",
   "execution_count": 6,
   "metadata": {},
   "outputs": [
    {
     "data": {
      "text/plain": "   ID_Posting  ID_Posting_Parent  ID_CommunityIdentity  \\\n0  1041073586       1.041073e+09                671476   \n1  1041073839       1.041073e+09                566938   \n2  1041073872       1.041069e+09                669286   \n3  1041080734       1.041080e+09                671476   \n4  1041080828                NaN                671476   \n\n                                     PostingHeadline  \\\n0  Das hat gestern bereits der Voggenhuber angefü...   \n1                                                NaN   \n2                                                NaN   \n3                  Sie haben doch nichts gefordert??   \n4  Heute wäre der perfekte Tag für die SPÖ gewese...   \n\n                                      PostingComment         PostingCreatedAt  \\\n0  schieder hatte dem inhaltlich nichts entgegenz...  2019-05-01 18:21:15.127   \n1     ...und meinen Bezirk bekommst du als Erbe mit.  2019-05-01 18:28:22.040   \n2  Nein, bei der ÖVP/FPÖ genauso passiert. Ich wo...  2019-05-01 18:29:05.533   \n3  sie haben nur die regierung kritisiert. das di...  2019-05-01 22:37:56.010   \n4  ihr noch nicht erfülltes versprechen, den silb...  2019-05-01 22:42:06.310   \n\n      ID_Article   ArticlePublishingDate  \\\n0  2000102330973  2019-05-01 10:28:57.49   \n1  2000102330973  2019-05-01 10:28:57.49   \n2  2000102330973  2019-05-01 10:28:57.49   \n3  2000102330973  2019-05-01 10:28:57.49   \n4  2000102330973  2019-05-01 10:28:57.49   \n\n                                        ArticleTitle ArticleChannel  \\\n0  1. Mai in Wien: SPÖ fordert von Strache Rücktritt         Inland   \n1  1. Mai in Wien: SPÖ fordert von Strache Rücktritt         Inland   \n2  1. Mai in Wien: SPÖ fordert von Strache Rücktritt         Inland   \n3  1. Mai in Wien: SPÖ fordert von Strache Rücktritt         Inland   \n4  1. Mai in Wien: SPÖ fordert von Strache Rücktritt         Inland   \n\n  ArticleRessortName UserCommunityName UserGender            UserCreatedAt  \n0           Parteien       Ravenspower        NaN  2018-04-14 13:42:28.470  \n1           Parteien        AlphaRomeo          m  2015-08-28 17:07:41.110  \n2           Parteien        Hpolditsch        NaN  2018-03-06 20:03:42.737  \n3           Parteien       Ravenspower        NaN  2018-04-14 13:42:28.470  \n4           Parteien       Ravenspower        NaN  2018-04-14 13:42:28.470  ",
      "text/html": "<div>\n<style scoped>\n    .dataframe tbody tr th:only-of-type {\n        vertical-align: middle;\n    }\n\n    .dataframe tbody tr th {\n        vertical-align: top;\n    }\n\n    .dataframe thead th {\n        text-align: right;\n    }\n</style>\n<table border=\"1\" class=\"dataframe\">\n  <thead>\n    <tr style=\"text-align: right;\">\n      <th></th>\n      <th>ID_Posting</th>\n      <th>ID_Posting_Parent</th>\n      <th>ID_CommunityIdentity</th>\n      <th>PostingHeadline</th>\n      <th>PostingComment</th>\n      <th>PostingCreatedAt</th>\n      <th>ID_Article</th>\n      <th>ArticlePublishingDate</th>\n      <th>ArticleTitle</th>\n      <th>ArticleChannel</th>\n      <th>ArticleRessortName</th>\n      <th>UserCommunityName</th>\n      <th>UserGender</th>\n      <th>UserCreatedAt</th>\n    </tr>\n  </thead>\n  <tbody>\n    <tr>\n      <th>0</th>\n      <td>1041073586</td>\n      <td>1.041073e+09</td>\n      <td>671476</td>\n      <td>Das hat gestern bereits der Voggenhuber angefü...</td>\n      <td>schieder hatte dem inhaltlich nichts entgegenz...</td>\n      <td>2019-05-01 18:21:15.127</td>\n      <td>2000102330973</td>\n      <td>2019-05-01 10:28:57.49</td>\n      <td>1. Mai in Wien: SPÖ fordert von Strache Rücktritt</td>\n      <td>Inland</td>\n      <td>Parteien</td>\n      <td>Ravenspower</td>\n      <td>NaN</td>\n      <td>2018-04-14 13:42:28.470</td>\n    </tr>\n    <tr>\n      <th>1</th>\n      <td>1041073839</td>\n      <td>1.041073e+09</td>\n      <td>566938</td>\n      <td>NaN</td>\n      <td>...und meinen Bezirk bekommst du als Erbe mit.</td>\n      <td>2019-05-01 18:28:22.040</td>\n      <td>2000102330973</td>\n      <td>2019-05-01 10:28:57.49</td>\n      <td>1. Mai in Wien: SPÖ fordert von Strache Rücktritt</td>\n      <td>Inland</td>\n      <td>Parteien</td>\n      <td>AlphaRomeo</td>\n      <td>m</td>\n      <td>2015-08-28 17:07:41.110</td>\n    </tr>\n    <tr>\n      <th>2</th>\n      <td>1041073872</td>\n      <td>1.041069e+09</td>\n      <td>669286</td>\n      <td>NaN</td>\n      <td>Nein, bei der ÖVP/FPÖ genauso passiert. Ich wo...</td>\n      <td>2019-05-01 18:29:05.533</td>\n      <td>2000102330973</td>\n      <td>2019-05-01 10:28:57.49</td>\n      <td>1. Mai in Wien: SPÖ fordert von Strache Rücktritt</td>\n      <td>Inland</td>\n      <td>Parteien</td>\n      <td>Hpolditsch</td>\n      <td>NaN</td>\n      <td>2018-03-06 20:03:42.737</td>\n    </tr>\n    <tr>\n      <th>3</th>\n      <td>1041080734</td>\n      <td>1.041080e+09</td>\n      <td>671476</td>\n      <td>Sie haben doch nichts gefordert??</td>\n      <td>sie haben nur die regierung kritisiert. das di...</td>\n      <td>2019-05-01 22:37:56.010</td>\n      <td>2000102330973</td>\n      <td>2019-05-01 10:28:57.49</td>\n      <td>1. Mai in Wien: SPÖ fordert von Strache Rücktritt</td>\n      <td>Inland</td>\n      <td>Parteien</td>\n      <td>Ravenspower</td>\n      <td>NaN</td>\n      <td>2018-04-14 13:42:28.470</td>\n    </tr>\n    <tr>\n      <th>4</th>\n      <td>1041080828</td>\n      <td>NaN</td>\n      <td>671476</td>\n      <td>Heute wäre der perfekte Tag für die SPÖ gewese...</td>\n      <td>ihr noch nicht erfülltes versprechen, den silb...</td>\n      <td>2019-05-01 22:42:06.310</td>\n      <td>2000102330973</td>\n      <td>2019-05-01 10:28:57.49</td>\n      <td>1. Mai in Wien: SPÖ fordert von Strache Rücktritt</td>\n      <td>Inland</td>\n      <td>Parteien</td>\n      <td>Ravenspower</td>\n      <td>NaN</td>\n      <td>2018-04-14 13:42:28.470</td>\n    </tr>\n  </tbody>\n</table>\n</div>"
     },
     "execution_count": 6,
     "metadata": {},
     "output_type": "execute_result"
    }
   ],
   "source": [
    "df.head()"
   ]
  },
  {
   "cell_type": "markdown",
   "metadata": {},
   "source": [
    "## First 1k users"
   ]
  },
  {
   "cell_type": "code",
   "execution_count": 46,
   "metadata": {},
   "outputs": [
    {
     "data": {
      "text/plain": "(155266, 14)"
     },
     "execution_count": 46,
     "metadata": {},
     "output_type": "execute_result"
    }
   ],
   "source": [
    "selected_users = df['ID_CommunityIdentity'].unique()[:1000]\n",
    "\n",
    "df_1k = df[df['ID_CommunityIdentity'].isin(selected_users)]\n",
    "df_1k.shape"
   ]
  },
  {
   "cell_type": "code",
   "execution_count": 47,
   "metadata": {},
   "outputs": [
    {
     "data": {
      "text/plain": "ID_CommunityIdentity\n932     [2000102335365, 2000102333198, 2000102349261, ...\n2183    [2000102263929, 2000102486297, 2000103145053, ...\n3457    [2000102344996, 2000102620920, 2000103059819, ...\n3481    [2000102351241, 2000102378773, 2000102370269, ...\n4145    [2000102263929, 2000102257779, 2000102362845, ...\nName: ID_Article, dtype: object"
     },
     "execution_count": 47,
     "metadata": {},
     "output_type": "execute_result"
    }
   ],
   "source": [
    "articles_per_user = df_1k.groupby('ID_CommunityIdentity')['ID_Article'].unique()\n",
    "articles_per_user.head()"
   ]
  },
  {
   "cell_type": "markdown",
   "metadata": {},
   "source": [
    "### IOU"
   ]
  },
  {
   "cell_type": "code",
   "execution_count": 48,
   "metadata": {},
   "outputs": [
    {
     "name": "stderr",
     "output_type": "stream",
     "text": [
      " 10%|█         | 102/1000 [00:03<00:30, 29.65it/s]\n"
     ]
    },
    {
     "ename": "KeyboardInterrupt",
     "evalue": "",
     "output_type": "error",
     "traceback": [
      "\u001B[1;31m---------------------------------------------------------------------------\u001B[0m",
      "\u001B[1;31mKeyboardInterrupt\u001B[0m                         Traceback (most recent call last)",
      "Cell \u001B[1;32mIn[48], line 1\u001B[0m\n\u001B[1;32m----> 1\u001B[0m edge_weights \u001B[38;5;241m=\u001B[39m \u001B[43miou\u001B[49m\u001B[43m(\u001B[49m\u001B[43mselected_users\u001B[49m\u001B[43m,\u001B[49m\u001B[43m \u001B[49m\u001B[43marticles_per_user\u001B[49m\u001B[43m)\u001B[49m\n",
      "File \u001B[1;32m~\\Universität\\8._Semester\\SNA\\UE\\SNA_W23-main\\src\\utils.py:57\u001B[0m, in \u001B[0;36miou\u001B[1;34m(selected_users, articles_per_user)\u001B[0m\n\u001B[0;32m     54\u001B[0m \u001B[38;5;28;01mdef\u001B[39;00m \u001B[38;5;21miou\u001B[39m(selected_users, articles_per_user):\n\u001B[0;32m     55\u001B[0m     edge_weights \u001B[38;5;241m=\u001B[39m np\u001B[38;5;241m.\u001B[39mzeros((\u001B[38;5;28mlen\u001B[39m(selected_users), \u001B[38;5;28mlen\u001B[39m(selected_users)))\n\u001B[1;32m---> 57\u001B[0m     \u001B[38;5;28;01mfor\u001B[39;00m i, user1 \u001B[38;5;129;01min\u001B[39;00m \u001B[38;5;28menumerate\u001B[39m(tqdm(selected_users)):\n\u001B[0;32m     58\u001B[0m         articles_user1 \u001B[38;5;241m=\u001B[39m \u001B[38;5;28mset\u001B[39m(articles_per_user[user1])\n\u001B[0;32m     59\u001B[0m         \u001B[38;5;28;01mfor\u001B[39;00m j, user2 \u001B[38;5;129;01min\u001B[39;00m \u001B[38;5;28menumerate\u001B[39m(selected_users[i:]):\n",
      "File \u001B[1;32m~\\AppData\\Local\\Programs\\Python\\Python310\\lib\\site-packages\\tqdm\\std.py:1192\u001B[0m, in \u001B[0;36mtqdm.__iter__\u001B[1;34m(self)\u001B[0m\n\u001B[0;32m   1190\u001B[0m dt \u001B[38;5;241m=\u001B[39m cur_t \u001B[38;5;241m-\u001B[39m last_print_t\n\u001B[0;32m   1191\u001B[0m \u001B[38;5;28;01mif\u001B[39;00m dt \u001B[38;5;241m>\u001B[39m\u001B[38;5;241m=\u001B[39m mininterval \u001B[38;5;129;01mand\u001B[39;00m cur_t \u001B[38;5;241m>\u001B[39m\u001B[38;5;241m=\u001B[39m min_start_t:\n\u001B[1;32m-> 1192\u001B[0m     \u001B[38;5;28;43mself\u001B[39;49m\u001B[38;5;241;43m.\u001B[39;49m\u001B[43mupdate\u001B[49m\u001B[43m(\u001B[49m\u001B[43mn\u001B[49m\u001B[43m \u001B[49m\u001B[38;5;241;43m-\u001B[39;49m\u001B[43m \u001B[49m\u001B[43mlast_print_n\u001B[49m\u001B[43m)\u001B[49m\n\u001B[0;32m   1193\u001B[0m     last_print_n \u001B[38;5;241m=\u001B[39m \u001B[38;5;28mself\u001B[39m\u001B[38;5;241m.\u001B[39mlast_print_n\n\u001B[0;32m   1194\u001B[0m     last_print_t \u001B[38;5;241m=\u001B[39m \u001B[38;5;28mself\u001B[39m\u001B[38;5;241m.\u001B[39mlast_print_t\n",
      "File \u001B[1;32m~\\AppData\\Local\\Programs\\Python\\Python310\\lib\\site-packages\\tqdm\\std.py:1243\u001B[0m, in \u001B[0;36mtqdm.update\u001B[1;34m(self, n)\u001B[0m\n\u001B[0;32m   1241\u001B[0m     \u001B[38;5;28mself\u001B[39m\u001B[38;5;241m.\u001B[39m_ema_dn(dn)\n\u001B[0;32m   1242\u001B[0m     \u001B[38;5;28mself\u001B[39m\u001B[38;5;241m.\u001B[39m_ema_dt(dt)\n\u001B[1;32m-> 1243\u001B[0m \u001B[38;5;28;43mself\u001B[39;49m\u001B[38;5;241;43m.\u001B[39;49m\u001B[43mrefresh\u001B[49m\u001B[43m(\u001B[49m\u001B[43mlock_args\u001B[49m\u001B[38;5;241;43m=\u001B[39;49m\u001B[38;5;28;43mself\u001B[39;49m\u001B[38;5;241;43m.\u001B[39;49m\u001B[43mlock_args\u001B[49m\u001B[43m)\u001B[49m\n\u001B[0;32m   1244\u001B[0m \u001B[38;5;28;01mif\u001B[39;00m \u001B[38;5;28mself\u001B[39m\u001B[38;5;241m.\u001B[39mdynamic_miniters:\n\u001B[0;32m   1245\u001B[0m     \u001B[38;5;66;03m# If no `miniters` was specified, adjust automatically to the\u001B[39;00m\n\u001B[0;32m   1246\u001B[0m     \u001B[38;5;66;03m# maximum iteration rate seen so far between two prints.\u001B[39;00m\n\u001B[0;32m   1247\u001B[0m     \u001B[38;5;66;03m# e.g.: After running `tqdm.update(5)`, subsequent\u001B[39;00m\n\u001B[0;32m   1248\u001B[0m     \u001B[38;5;66;03m# calls to `tqdm.update()` will only cause an update after\u001B[39;00m\n\u001B[0;32m   1249\u001B[0m     \u001B[38;5;66;03m# at least 5 more iterations.\u001B[39;00m\n\u001B[0;32m   1250\u001B[0m     \u001B[38;5;28;01mif\u001B[39;00m \u001B[38;5;28mself\u001B[39m\u001B[38;5;241m.\u001B[39mmaxinterval \u001B[38;5;129;01mand\u001B[39;00m dt \u001B[38;5;241m>\u001B[39m\u001B[38;5;241m=\u001B[39m \u001B[38;5;28mself\u001B[39m\u001B[38;5;241m.\u001B[39mmaxinterval:\n",
      "File \u001B[1;32m~\\AppData\\Local\\Programs\\Python\\Python310\\lib\\site-packages\\tqdm\\std.py:1348\u001B[0m, in \u001B[0;36mtqdm.refresh\u001B[1;34m(self, nolock, lock_args)\u001B[0m\n\u001B[0;32m   1346\u001B[0m     \u001B[38;5;28;01melse\u001B[39;00m:\n\u001B[0;32m   1347\u001B[0m         \u001B[38;5;28mself\u001B[39m\u001B[38;5;241m.\u001B[39m_lock\u001B[38;5;241m.\u001B[39macquire()\n\u001B[1;32m-> 1348\u001B[0m \u001B[38;5;28;43mself\u001B[39;49m\u001B[38;5;241;43m.\u001B[39;49m\u001B[43mdisplay\u001B[49m\u001B[43m(\u001B[49m\u001B[43m)\u001B[49m\n\u001B[0;32m   1349\u001B[0m \u001B[38;5;28;01mif\u001B[39;00m \u001B[38;5;129;01mnot\u001B[39;00m nolock:\n\u001B[0;32m   1350\u001B[0m     \u001B[38;5;28mself\u001B[39m\u001B[38;5;241m.\u001B[39m_lock\u001B[38;5;241m.\u001B[39mrelease()\n",
      "File \u001B[1;32m~\\AppData\\Local\\Programs\\Python\\Python310\\lib\\site-packages\\tqdm\\std.py:1496\u001B[0m, in \u001B[0;36mtqdm.display\u001B[1;34m(self, msg, pos)\u001B[0m\n\u001B[0;32m   1494\u001B[0m \u001B[38;5;28;01mif\u001B[39;00m pos:\n\u001B[0;32m   1495\u001B[0m     \u001B[38;5;28mself\u001B[39m\u001B[38;5;241m.\u001B[39mmoveto(pos)\n\u001B[1;32m-> 1496\u001B[0m \u001B[38;5;28;43mself\u001B[39;49m\u001B[38;5;241;43m.\u001B[39;49m\u001B[43msp\u001B[49m\u001B[43m(\u001B[49m\u001B[38;5;28;43mself\u001B[39;49m\u001B[38;5;241;43m.\u001B[39;49m\u001B[38;5;21;43m__str__\u001B[39;49m\u001B[43m(\u001B[49m\u001B[43m)\u001B[49m\u001B[43m \u001B[49m\u001B[38;5;28;43;01mif\u001B[39;49;00m\u001B[43m \u001B[49m\u001B[43mmsg\u001B[49m\u001B[43m \u001B[49m\u001B[38;5;129;43;01mis\u001B[39;49;00m\u001B[43m \u001B[49m\u001B[38;5;28;43;01mNone\u001B[39;49;00m\u001B[43m \u001B[49m\u001B[38;5;28;43;01melse\u001B[39;49;00m\u001B[43m \u001B[49m\u001B[43mmsg\u001B[49m\u001B[43m)\u001B[49m\n\u001B[0;32m   1497\u001B[0m \u001B[38;5;28;01mif\u001B[39;00m pos:\n\u001B[0;32m   1498\u001B[0m     \u001B[38;5;28mself\u001B[39m\u001B[38;5;241m.\u001B[39mmoveto(\u001B[38;5;241m-\u001B[39mpos)\n",
      "File \u001B[1;32m~\\AppData\\Local\\Programs\\Python\\Python310\\lib\\site-packages\\tqdm\\std.py:462\u001B[0m, in \u001B[0;36mtqdm.status_printer.<locals>.print_status\u001B[1;34m(s)\u001B[0m\n\u001B[0;32m    460\u001B[0m \u001B[38;5;28;01mdef\u001B[39;00m \u001B[38;5;21mprint_status\u001B[39m(s):\n\u001B[0;32m    461\u001B[0m     len_s \u001B[38;5;241m=\u001B[39m disp_len(s)\n\u001B[1;32m--> 462\u001B[0m     \u001B[43mfp_write\u001B[49m\u001B[43m(\u001B[49m\u001B[38;5;124;43m'\u001B[39;49m\u001B[38;5;130;43;01m\\r\u001B[39;49;00m\u001B[38;5;124;43m'\u001B[39;49m\u001B[43m \u001B[49m\u001B[38;5;241;43m+\u001B[39;49m\u001B[43m \u001B[49m\u001B[43ms\u001B[49m\u001B[43m \u001B[49m\u001B[38;5;241;43m+\u001B[39;49m\u001B[43m \u001B[49m\u001B[43m(\u001B[49m\u001B[38;5;124;43m'\u001B[39;49m\u001B[38;5;124;43m \u001B[39;49m\u001B[38;5;124;43m'\u001B[39;49m\u001B[43m \u001B[49m\u001B[38;5;241;43m*\u001B[39;49m\u001B[43m \u001B[49m\u001B[38;5;28;43mmax\u001B[39;49m\u001B[43m(\u001B[49m\u001B[43mlast_len\u001B[49m\u001B[43m[\u001B[49m\u001B[38;5;241;43m0\u001B[39;49m\u001B[43m]\u001B[49m\u001B[43m \u001B[49m\u001B[38;5;241;43m-\u001B[39;49m\u001B[43m \u001B[49m\u001B[43mlen_s\u001B[49m\u001B[43m,\u001B[49m\u001B[43m \u001B[49m\u001B[38;5;241;43m0\u001B[39;49m\u001B[43m)\u001B[49m\u001B[43m)\u001B[49m\u001B[43m)\u001B[49m\n\u001B[0;32m    463\u001B[0m     last_len[\u001B[38;5;241m0\u001B[39m] \u001B[38;5;241m=\u001B[39m len_s\n",
      "File \u001B[1;32m~\\AppData\\Local\\Programs\\Python\\Python310\\lib\\site-packages\\tqdm\\std.py:455\u001B[0m, in \u001B[0;36mtqdm.status_printer.<locals>.fp_write\u001B[1;34m(s)\u001B[0m\n\u001B[0;32m    454\u001B[0m \u001B[38;5;28;01mdef\u001B[39;00m \u001B[38;5;21mfp_write\u001B[39m(s):\n\u001B[1;32m--> 455\u001B[0m     \u001B[43mfp\u001B[49m\u001B[38;5;241;43m.\u001B[39;49m\u001B[43mwrite\u001B[49m\u001B[43m(\u001B[49m\u001B[38;5;28;43mstr\u001B[39;49m\u001B[43m(\u001B[49m\u001B[43ms\u001B[49m\u001B[43m)\u001B[49m\u001B[43m)\u001B[49m\n\u001B[0;32m    456\u001B[0m     fp_flush()\n",
      "File \u001B[1;32m~\\AppData\\Local\\Programs\\Python\\Python310\\lib\\site-packages\\tqdm\\utils.py:195\u001B[0m, in \u001B[0;36mDisableOnWriteError.disable_on_exception.<locals>.inner\u001B[1;34m(*args, **kwargs)\u001B[0m\n\u001B[0;32m    193\u001B[0m \u001B[38;5;28;01mdef\u001B[39;00m \u001B[38;5;21minner\u001B[39m(\u001B[38;5;241m*\u001B[39margs, \u001B[38;5;241m*\u001B[39m\u001B[38;5;241m*\u001B[39mkwargs):\n\u001B[0;32m    194\u001B[0m     \u001B[38;5;28;01mtry\u001B[39;00m:\n\u001B[1;32m--> 195\u001B[0m         \u001B[38;5;28;01mreturn\u001B[39;00m func(\u001B[38;5;241m*\u001B[39margs, \u001B[38;5;241m*\u001B[39m\u001B[38;5;241m*\u001B[39mkwargs)\n\u001B[0;32m    196\u001B[0m     \u001B[38;5;28;01mexcept\u001B[39;00m \u001B[38;5;167;01mOSError\u001B[39;00m \u001B[38;5;28;01mas\u001B[39;00m e:\n\u001B[0;32m    197\u001B[0m         \u001B[38;5;28;01mif\u001B[39;00m e\u001B[38;5;241m.\u001B[39merrno \u001B[38;5;241m!=\u001B[39m \u001B[38;5;241m5\u001B[39m:\n",
      "File \u001B[1;32m~\\AppData\\Local\\Programs\\Python\\Python310\\lib\\site-packages\\ipykernel\\iostream.py:662\u001B[0m, in \u001B[0;36mOutStream.write\u001B[1;34m(self, string)\u001B[0m\n\u001B[0;32m    660\u001B[0m     \u001B[38;5;28mself\u001B[39m\u001B[38;5;241m.\u001B[39mpub_thread\u001B[38;5;241m.\u001B[39mschedule(\u001B[38;5;28mself\u001B[39m\u001B[38;5;241m.\u001B[39m_flush)\n\u001B[0;32m    661\u001B[0m \u001B[38;5;28;01melse\u001B[39;00m:\n\u001B[1;32m--> 662\u001B[0m     \u001B[38;5;28;43mself\u001B[39;49m\u001B[38;5;241;43m.\u001B[39;49m\u001B[43m_schedule_flush\u001B[49m\u001B[43m(\u001B[49m\u001B[43m)\u001B[49m\n\u001B[0;32m    664\u001B[0m \u001B[38;5;28;01mreturn\u001B[39;00m \u001B[38;5;28mlen\u001B[39m(string)\n",
      "File \u001B[1;32m~\\AppData\\Local\\Programs\\Python\\Python310\\lib\\site-packages\\ipykernel\\iostream.py:559\u001B[0m, in \u001B[0;36mOutStream._schedule_flush\u001B[1;34m(self)\u001B[0m\n\u001B[0;32m    556\u001B[0m \u001B[38;5;28;01mdef\u001B[39;00m \u001B[38;5;21m_schedule_in_thread\u001B[39m():\n\u001B[0;32m    557\u001B[0m     \u001B[38;5;28mself\u001B[39m\u001B[38;5;241m.\u001B[39m_io_loop\u001B[38;5;241m.\u001B[39mcall_later(\u001B[38;5;28mself\u001B[39m\u001B[38;5;241m.\u001B[39mflush_interval, \u001B[38;5;28mself\u001B[39m\u001B[38;5;241m.\u001B[39m_flush)\n\u001B[1;32m--> 559\u001B[0m \u001B[38;5;28;43mself\u001B[39;49m\u001B[38;5;241;43m.\u001B[39;49m\u001B[43mpub_thread\u001B[49m\u001B[38;5;241;43m.\u001B[39;49m\u001B[43mschedule\u001B[49m\u001B[43m(\u001B[49m\u001B[43m_schedule_in_thread\u001B[49m\u001B[43m)\u001B[49m\n",
      "File \u001B[1;32m~\\AppData\\Local\\Programs\\Python\\Python310\\lib\\site-packages\\ipykernel\\iostream.py:266\u001B[0m, in \u001B[0;36mIOPubThread.schedule\u001B[1;34m(self, f)\u001B[0m\n\u001B[0;32m    264\u001B[0m     \u001B[38;5;28mself\u001B[39m\u001B[38;5;241m.\u001B[39m_events\u001B[38;5;241m.\u001B[39mappend(f)\n\u001B[0;32m    265\u001B[0m     \u001B[38;5;66;03m# wake event thread (message content is ignored)\u001B[39;00m\n\u001B[1;32m--> 266\u001B[0m     \u001B[38;5;28;43mself\u001B[39;49m\u001B[38;5;241;43m.\u001B[39;49m\u001B[43m_event_pipe\u001B[49m\u001B[38;5;241;43m.\u001B[39;49m\u001B[43msend\u001B[49m\u001B[43m(\u001B[49m\u001B[38;5;124;43mb\u001B[39;49m\u001B[38;5;124;43m\"\u001B[39;49m\u001B[38;5;124;43m\"\u001B[39;49m\u001B[43m)\u001B[49m\n\u001B[0;32m    267\u001B[0m \u001B[38;5;28;01melse\u001B[39;00m:\n\u001B[0;32m    268\u001B[0m     f()\n",
      "File \u001B[1;32m~\\AppData\\Local\\Programs\\Python\\Python310\\lib\\site-packages\\zmq\\sugar\\socket.py:696\u001B[0m, in \u001B[0;36mSocket.send\u001B[1;34m(self, data, flags, copy, track, routing_id, group)\u001B[0m\n\u001B[0;32m    689\u001B[0m         data \u001B[38;5;241m=\u001B[39m zmq\u001B[38;5;241m.\u001B[39mFrame(\n\u001B[0;32m    690\u001B[0m             data,\n\u001B[0;32m    691\u001B[0m             track\u001B[38;5;241m=\u001B[39mtrack,\n\u001B[0;32m    692\u001B[0m             copy\u001B[38;5;241m=\u001B[39mcopy \u001B[38;5;129;01mor\u001B[39;00m \u001B[38;5;28;01mNone\u001B[39;00m,\n\u001B[0;32m    693\u001B[0m             copy_threshold\u001B[38;5;241m=\u001B[39m\u001B[38;5;28mself\u001B[39m\u001B[38;5;241m.\u001B[39mcopy_threshold,\n\u001B[0;32m    694\u001B[0m         )\n\u001B[0;32m    695\u001B[0m     data\u001B[38;5;241m.\u001B[39mgroup \u001B[38;5;241m=\u001B[39m group\n\u001B[1;32m--> 696\u001B[0m \u001B[38;5;28;01mreturn\u001B[39;00m \u001B[38;5;28;43msuper\u001B[39;49m\u001B[43m(\u001B[49m\u001B[43m)\u001B[49m\u001B[38;5;241;43m.\u001B[39;49m\u001B[43msend\u001B[49m\u001B[43m(\u001B[49m\u001B[43mdata\u001B[49m\u001B[43m,\u001B[49m\u001B[43m \u001B[49m\u001B[43mflags\u001B[49m\u001B[38;5;241;43m=\u001B[39;49m\u001B[43mflags\u001B[49m\u001B[43m,\u001B[49m\u001B[43m \u001B[49m\u001B[43mcopy\u001B[49m\u001B[38;5;241;43m=\u001B[39;49m\u001B[43mcopy\u001B[49m\u001B[43m,\u001B[49m\u001B[43m \u001B[49m\u001B[43mtrack\u001B[49m\u001B[38;5;241;43m=\u001B[39;49m\u001B[43mtrack\u001B[49m\u001B[43m)\u001B[49m\n",
      "File \u001B[1;32mzmq\\\\backend\\\\cython\\\\socket.pyx:742\u001B[0m, in \u001B[0;36mzmq.backend.cython.socket.Socket.send\u001B[1;34m()\u001B[0m\n",
      "File \u001B[1;32mzmq\\\\backend\\\\cython\\\\socket.pyx:789\u001B[0m, in \u001B[0;36mzmq.backend.cython.socket.Socket.send\u001B[1;34m()\u001B[0m\n",
      "File \u001B[1;32mzmq\\\\backend\\\\cython\\\\socket.pyx:250\u001B[0m, in \u001B[0;36mzmq.backend.cython.socket._send_copy\u001B[1;34m()\u001B[0m\n",
      "File \u001B[1;32m~\\AppData\\Local\\Programs\\Python\\Python310\\lib\\site-packages\\zmq\\backend\\cython\\checkrc.pxd:13\u001B[0m, in \u001B[0;36mzmq.backend.cython.checkrc._check_rc\u001B[1;34m()\u001B[0m\n",
      "\u001B[1;31mKeyboardInterrupt\u001B[0m: "
     ]
    }
   ],
   "source": [
    "edge_weights = iou(selected_users, articles_per_user)"
   ]
  },
  {
   "cell_type": "code",
   "execution_count": null,
   "metadata": {},
   "outputs": [],
   "source": [
    "edge_weights[:5, :5]"
   ]
  },
  {
   "cell_type": "code",
   "execution_count": null,
   "metadata": {},
   "outputs": [],
   "source": [
    "edge_weights = edge_weights + edge_weights.T"
   ]
  },
  {
   "cell_type": "code",
   "execution_count": null,
   "metadata": {},
   "outputs": [],
   "source": [
    "np.median(edge_weights.flatten())"
   ]
  },
  {
   "cell_type": "code",
   "execution_count": null,
   "metadata": {},
   "outputs": [],
   "source": [
    "plt.hist(edge_weights.flatten(), bins=100, log=True)"
   ]
  },
  {
   "cell_type": "code",
   "execution_count": null,
   "metadata": {},
   "outputs": [],
   "source": [
    "graph =  build_graph(selected_users, edge_weights, 0)"
   ]
  },
  {
   "cell_type": "code",
   "execution_count": null,
   "metadata": {},
   "outputs": [],
   "source": [
    "# save graph\n",
    "nx.write_gexf(graph, '../graphs/iou_graph.gexf')"
   ]
  },
  {
   "cell_type": "code",
   "execution_count": null,
   "metadata": {},
   "outputs": [],
   "source": [
    "graph = nx.read_gexf('../graphs/iou_graph.gexf')"
   ]
  },
  {
   "cell_type": "markdown",
   "metadata": {},
   "source": [
    "### IOM"
   ]
  },
  {
   "cell_type": "code",
   "execution_count": null,
   "metadata": {},
   "outputs": [],
   "source": [
    "edge_weights = iom(selected_users, articles_per_user)"
   ]
  },
  {
   "cell_type": "code",
   "execution_count": null,
   "metadata": {},
   "outputs": [],
   "source": [
    "# Create an empty graph\n",
    "graph = build_graph(selected_users, edge_weights, 0)"
   ]
  },
  {
   "cell_type": "code",
   "execution_count": null,
   "metadata": {},
   "outputs": [],
   "source": [
    "# save graph\n",
    "nx.write_gexf(graph, '../graphs/iom_graph.gexf')"
   ]
  },
  {
   "cell_type": "markdown",
   "metadata": {},
   "source": [
    "Only take the top 10\\% of the edges"
   ]
  },
  {
   "cell_type": "code",
   "execution_count": null,
   "metadata": {},
   "outputs": [],
   "source": [
    "# Calculate the threshold value for the top 10% of weights\n",
    "threshold = np.percentile(edge_weights.flatten(), 95)\n",
    "\n",
    "graph = build_graph(selected_users, edge_weights, threshold)"
   ]
  },
  {
   "cell_type": "code",
   "execution_count": null,
   "metadata": {},
   "outputs": [],
   "source": [
    "nx.write_gexf(graph, '../graphs/iom_graph_10.gexf')"
   ]
  },
  {
   "cell_type": "markdown",
   "metadata": {},
   "source": [
    "## Random Users >5 comments IOM"
   ]
  },
  {
   "cell_type": "code",
   "execution_count": null,
   "metadata": {},
   "outputs": [],
   "source": [
    "df = load_data()"
   ]
  },
  {
   "cell_type": "code",
   "execution_count": null,
   "metadata": {},
   "outputs": [],
   "source": [
    "# Get unique articles per user\n",
    "articles_per_user = df.groupby('ID_CommunityIdentity')['ID_Article'].agg(set)\n",
    "articles_per_user = articles_per_user[articles_per_user.apply(len) > 5].apply(list)"
   ]
  },
  {
   "cell_type": "code",
   "execution_count": null,
   "metadata": {},
   "outputs": [],
   "source": [
    "# select users with more than 10 comments\n",
    "selected_users = articles_per_user.index.to_list()\n",
    "selected_users = random.sample(selected_users, k=1000)"
   ]
  },
  {
   "cell_type": "code",
   "execution_count": null,
   "metadata": {},
   "outputs": [],
   "source": [
    "edge_weights = iom(selected_users, articles_per_user)"
   ]
  },
  {
   "cell_type": "code",
   "execution_count": null,
   "metadata": {},
   "outputs": [],
   "source": [
    "plt.hist(edge_weights.flatten(), bins=100, log=True)"
   ]
  },
  {
   "cell_type": "code",
   "execution_count": null,
   "metadata": {},
   "outputs": [],
   "source": [
    "# Calculate the threshold value for the top 10% of weights\n",
    "threshold = np.percentile(edge_weights.flatten(), 95)\n",
    "\n",
    "# Create an empty graph\n",
    "graph = build_graph(selected_users, edge_weights, threshold)\n"
   ]
  },
  {
   "cell_type": "code",
   "execution_count": null,
   "metadata": {},
   "outputs": [],
   "source": [
    "nx.write_gexf(graph, '../graphs/iom_graph.gexf')"
   ]
  },
  {
   "cell_type": "markdown",
   "metadata": {},
   "source": [
    "## Filter By Channel"
   ]
  },
  {
   "cell_type": "code",
   "execution_count": 49,
   "metadata": {},
   "outputs": [],
   "source": [
    "df = load_data()"
   ]
  },
  {
   "cell_type": "code",
   "execution_count": 50,
   "metadata": {},
   "outputs": [
    {
     "data": {
      "text/plain": "ArticleChannel\nInland           188069\nPanorama          98391\nMeinung           96008\nWeb               59589\nInternational     55911\nWirtschaft        50755\nSport             40396\nEtat              34890\nKultur            24013\nUser              12760\nWissenschaft      12565\nLifestyle         11124\nGesundheit        10490\nBildung            7942\ndieStandard        7527\nAutoMobil          6366\nImmobilien         5071\nDiverses           4597\nZukunft            4228\nReisen             3285\nFamilie            2658\nKarriere           2459\nName: count, dtype: int64"
     },
     "execution_count": 50,
     "metadata": {},
     "output_type": "execute_result"
    }
   ],
   "source": [
    "df['ArticleChannel'].value_counts()"
   ]
  },
  {
   "cell_type": "code",
   "execution_count": 51,
   "metadata": {},
   "outputs": [],
   "source": [
    "df, articles_per_user, selected_users = filter_users(df, ['Sport', 'Wissenschaft'], min_articles= 5)"
   ]
  },
  {
   "cell_type": "code",
   "execution_count": 52,
   "metadata": {},
   "outputs": [
    {
     "name": "stderr",
     "output_type": "stream",
     "text": [
      "100%|██████████| 1239/1239 [00:07<00:00, 159.35it/s]\n"
     ]
    }
   ],
   "source": [
    "edge_weights = iom(selected_users, articles_per_user)"
   ]
  },
  {
   "cell_type": "code",
   "execution_count": 53,
   "metadata": {},
   "outputs": [],
   "source": [
    "# Calculate the threshold value for the top 10% of weights\n",
    "threshold = np.percentile(edge_weights.flatten(), 95)\n",
    "\n",
    "# Create an empty graph\n",
    "graph = build_graph(selected_users, edge_weights, threshold)\n"
   ]
  },
  {
   "cell_type": "code",
   "execution_count": 54,
   "metadata": {},
   "outputs": [
    {
     "name": "stdout",
     "output_type": "stream",
     "text": [
      "most_common\n",
      "Sport           1014\n",
      "Wissenschaft     225\n",
      "Name: count, dtype: int64\n"
     ]
    }
   ],
   "source": [
    "df_category_count = most_common_category_per_user(df)\n",
    "print(df_category_count['most_common'].value_counts())"
   ]
  },
  {
   "cell_type": "code",
   "execution_count": 55,
   "metadata": {},
   "outputs": [],
   "source": [
    "nx.set_node_attributes(graph, df_category_count['most_common'].to_dict(), 'category')"
   ]
  },
  {
   "cell_type": "code",
   "execution_count": 56,
   "metadata": {},
   "outputs": [],
   "source": [
    "nx.write_gexf(graph, '../graphs/iom_graph_sport_wissenschaft.gexf')"
   ]
  },
  {
   "cell_type": "markdown",
   "metadata": {},
   "source": [
    "### Using Wissenschaft, Sport and AutoMobil"
   ]
  },
  {
   "cell_type": "code",
   "execution_count": 57,
   "metadata": {},
   "outputs": [],
   "source": [
    "df = load_data()\n",
    "\n",
    "df, articles_per_user, selected_users = filter_users(df, ['Wissenschaft', 'Sport', 'AutoMobil'], min_articles= 5)"
   ]
  },
  {
   "cell_type": "code",
   "execution_count": 58,
   "metadata": {},
   "outputs": [
    {
     "name": "stderr",
     "output_type": "stream",
     "text": [
      "100%|██████████| 1362/1362 [00:10<00:00, 134.44it/s]\n"
     ]
    }
   ],
   "source": [
    "edge_weights = iom(selected_users, articles_per_user)\n",
    "\n",
    "# Calculate the threshold value for the top 10% of weights\n",
    "threshold = np.percentile(edge_weights.flatten(), 95)\n",
    "\n",
    "graph = build_graph(selected_users, edge_weights, threshold)"
   ]
  },
  {
   "cell_type": "code",
   "execution_count": 59,
   "metadata": {},
   "outputs": [
    {
     "name": "stdout",
     "output_type": "stream",
     "text": [
      "most_common\n",
      "Sport           1035\n",
      "Wissenschaft     249\n",
      "AutoMobil         78\n",
      "Name: count, dtype: int64\n"
     ]
    }
   ],
   "source": [
    "df_category_count = most_common_category_per_user(df)\n",
    "print(df_category_count['most_common'].value_counts())"
   ]
  },
  {
   "cell_type": "code",
   "execution_count": 60,
   "metadata": {},
   "outputs": [],
   "source": [
    "nx.set_node_attributes(graph, df_category_count['most_common'].to_dict(), 'category')"
   ]
  },
  {
   "cell_type": "code",
   "execution_count": 61,
   "metadata": {},
   "outputs": [],
   "source": [
    "nx.write_gexf(graph, '../graphs/iom_graph_sport_wissenschaft_automobil.gexf')"
   ]
  },
  {
   "cell_type": "markdown",
   "source": [
    "### Using Sport, Kultur"
   ],
   "metadata": {
    "collapsed": false
   }
  },
  {
   "cell_type": "code",
   "execution_count": 63,
   "outputs": [],
   "source": [
    "df = load_data()\n",
    "df, articles_per_user, selected_users = filter_users(df, ['Kultur', 'Sport'], min_articles=5)"
   ],
   "metadata": {
    "collapsed": false
   }
  },
  {
   "cell_type": "code",
   "execution_count": 64,
   "outputs": [
    {
     "name": "stderr",
     "output_type": "stream",
     "text": [
      "100%|██████████| 1465/1465 [00:14<00:00, 98.42it/s] \n"
     ]
    }
   ],
   "source": [
    "edge_weights = iom(selected_users, articles_per_user)\n",
    "\n",
    "# Calculate the threshold value for the top 10% of weights\n",
    "threshold = np.percentile(edge_weights.flatten(), 95)\n",
    "\n",
    "graph = build_graph(selected_users, edge_weights, threshold)"
   ],
   "metadata": {
    "collapsed": false
   }
  },
  {
   "cell_type": "code",
   "execution_count": 65,
   "outputs": [
    {
     "name": "stdout",
     "output_type": "stream",
     "text": [
      "most_common\n",
      "Sport     1004\n",
      "Kultur     461\n",
      "Name: count, dtype: int64\n"
     ]
    }
   ],
   "source": [
    "df_category_count = most_common_category_per_user(df)\n",
    "print(df_category_count['most_common'].value_counts())"
   ],
   "metadata": {
    "collapsed": false
   }
  },
  {
   "cell_type": "code",
   "execution_count": 66,
   "outputs": [],
   "source": [
    "nx.set_node_attributes(graph, df_category_count['most_common'].to_dict(), 'category')\n",
    "nx.write_gexf(graph, '../graphs/iom_graph_sport_kultur.gexf')"
   ],
   "metadata": {
    "collapsed": false
   }
  },
  {
   "cell_type": "markdown",
   "source": [
    "### Using Karriere, Familie"
   ],
   "metadata": {
    "collapsed": false
   }
  },
  {
   "cell_type": "code",
   "execution_count": 67,
   "metadata": {},
   "outputs": [],
   "source": [
    "df = load_data()\n",
    "df, articles_per_user, selected_users = filter_users(df, ['Karriere', 'Familie'], min_articles=5)"
   ]
  },
  {
   "cell_type": "code",
   "execution_count": 68,
   "outputs": [
    {
     "name": "stderr",
     "output_type": "stream",
     "text": [
      "100%|██████████| 25/25 [00:00<00:00, 4628.66it/s]\n"
     ]
    }
   ],
   "source": [
    "edge_weights = iom(selected_users, articles_per_user)\n",
    "\n",
    "# Calculate the threshold value for the top 10% of weights\n",
    "threshold = np.percentile(edge_weights.flatten(), 95)\n",
    "\n",
    "graph = build_graph(selected_users, edge_weights, threshold)"
   ],
   "metadata": {
    "collapsed": false
   }
  },
  {
   "cell_type": "code",
   "execution_count": 69,
   "outputs": [
    {
     "name": "stdout",
     "output_type": "stream",
     "text": [
      "most_common\n",
      "Karriere    16\n",
      "Familie      9\n",
      "Name: count, dtype: int64\n"
     ]
    }
   ],
   "source": [
    "df_category_count = most_common_category_per_user(df)\n",
    "print(df_category_count['most_common'].value_counts())"
   ],
   "metadata": {
    "collapsed": false
   }
  },
  {
   "cell_type": "code",
   "execution_count": 70,
   "outputs": [],
   "source": [
    "nx.set_node_attributes(graph, df_category_count['most_common'].to_dict(), 'category')\n",
    "nx.write_gexf(graph, '../graphs/iom_graph_karriere_familie.gexf')"
   ],
   "metadata": {
    "collapsed": false
   }
  },
  {
   "cell_type": "markdown",
   "source": [
    "### Using Gesundheit, Immobilien"
   ],
   "metadata": {
    "collapsed": false
   }
  },
  {
   "cell_type": "code",
   "execution_count": 71,
   "outputs": [],
   "source": [
    "df = load_data()\n",
    "df, articles_per_user, selected_users = filter_users(df, ['Gesundheit', 'Immobilien'], min_articles=5)"
   ],
   "metadata": {
    "collapsed": false
   }
  },
  {
   "cell_type": "code",
   "execution_count": 72,
   "outputs": [
    {
     "name": "stderr",
     "output_type": "stream",
     "text": [
      "100%|██████████| 161/161 [00:00<00:00, 1309.21it/s]\n"
     ]
    }
   ],
   "source": [
    "edge_weights = iom(selected_users, articles_per_user)\n",
    "\n",
    "# Calculate the threshold value for the top 10% of weights\n",
    "threshold = np.percentile(edge_weights.flatten(), 95)\n",
    "\n",
    "graph = build_graph(selected_users, edge_weights, threshold)"
   ],
   "metadata": {
    "collapsed": false
   }
  },
  {
   "cell_type": "code",
   "execution_count": 73,
   "outputs": [
    {
     "name": "stdout",
     "output_type": "stream",
     "text": [
      "most_common\n",
      "Gesundheit    112\n",
      "Immobilien     49\n",
      "Name: count, dtype: int64\n"
     ]
    }
   ],
   "source": [
    "df_category_count = most_common_category_per_user(df)\n",
    "print(df_category_count['most_common'].value_counts())"
   ],
   "metadata": {
    "collapsed": false
   }
  },
  {
   "cell_type": "code",
   "execution_count": 74,
   "outputs": [],
   "source": [
    "nx.set_node_attributes(graph, df_category_count['most_common'].to_dict(), 'category')\n",
    "nx.write_gexf(graph, '../graphs/iom_graph_gesundheit_immobilien.gexf')"
   ],
   "metadata": {
    "collapsed": false
   }
  },
  {
   "cell_type": "markdown",
   "source": [
    "### Using Sport, Karriere"
   ],
   "metadata": {
    "collapsed": false
   }
  },
  {
   "cell_type": "code",
   "execution_count": 75,
   "outputs": [],
   "source": [
    "df = load_data()\n",
    "df, articles_per_user, selected_users = filter_users(df, ['Karriere', 'Sport'], min_articles=5)"
   ],
   "metadata": {
    "collapsed": false
   }
  },
  {
   "cell_type": "code",
   "execution_count": 76,
   "outputs": [
    {
     "name": "stderr",
     "output_type": "stream",
     "text": [
      "100%|██████████| 973/973 [00:05<00:00, 163.63it/s]\n"
     ]
    }
   ],
   "source": [
    "edge_weights = iom(selected_users, articles_per_user)\n",
    "\n",
    "# Calculate the threshold value for the top 10% of weights\n",
    "threshold = np.percentile(edge_weights.flatten(), 95)\n",
    "\n",
    "graph = build_graph(selected_users, edge_weights, threshold)"
   ],
   "metadata": {
    "collapsed": false
   }
  },
  {
   "cell_type": "code",
   "execution_count": 77,
   "outputs": [
    {
     "name": "stdout",
     "output_type": "stream",
     "text": [
      "most_common\n",
      "Sport       953\n",
      "Karriere     20\n",
      "Name: count, dtype: int64\n"
     ]
    }
   ],
   "source": [
    "df_category_count = most_common_category_per_user(df)\n",
    "print(df_category_count['most_common'].value_counts())"
   ],
   "metadata": {
    "collapsed": false
   }
  },
  {
   "cell_type": "code",
   "execution_count": 78,
   "outputs": [],
   "source": [
    "nx.set_node_attributes(graph, df_category_count['most_common'].to_dict(), 'category')\n",
    "nx.write_gexf(graph, '../graphs/iom_graph_karriere_sport.gexf')"
   ],
   "metadata": {
    "collapsed": false
   }
  },
  {
   "cell_type": "markdown",
   "source": [
    "### Using Kultur, Wirtschaft"
   ],
   "metadata": {
    "collapsed": false
   }
  },
  {
   "cell_type": "code",
   "execution_count": 83,
   "outputs": [],
   "source": [
    "df = load_data()\n",
    "df, articles_per_user, selected_users = filter_users(df, ['Kultur', 'Wirtschaft'], min_articles=5)"
   ],
   "metadata": {
    "collapsed": false
   }
  },
  {
   "cell_type": "code",
   "execution_count": 84,
   "outputs": [
    {
     "name": "stderr",
     "output_type": "stream",
     "text": [
      "100%|██████████| 1860/1860 [00:20<00:00, 89.61it/s] \n"
     ]
    }
   ],
   "source": [
    "edge_weights = iom(selected_users, articles_per_user)\n",
    "\n",
    "# Calculate the threshold value for the top 10% of weights\n",
    "threshold = np.percentile(edge_weights.flatten(), 95)\n",
    "\n",
    "graph = build_graph(selected_users, edge_weights, threshold)"
   ],
   "metadata": {
    "collapsed": false
   }
  },
  {
   "cell_type": "code",
   "execution_count": 85,
   "outputs": [
    {
     "name": "stdout",
     "output_type": "stream",
     "text": [
      "most_common\n",
      "Wirtschaft    1364\n",
      "Kultur         496\n",
      "Name: count, dtype: int64\n"
     ]
    }
   ],
   "source": [
    "df_category_count = most_common_category_per_user(df)\n",
    "print(df_category_count['most_common'].value_counts())"
   ],
   "metadata": {
    "collapsed": false
   }
  },
  {
   "cell_type": "code",
   "execution_count": 86,
   "outputs": [],
   "source": [
    "nx.set_node_attributes(graph, df_category_count['most_common'].to_dict(), 'category')\n",
    "nx.write_gexf(graph, '../graphs/iom_graph_kultur_wirtschaft.gexf')"
   ],
   "metadata": {
    "collapsed": false
   }
  },
  {
   "cell_type": "markdown",
   "source": [
    "### Using Familie, International"
   ],
   "metadata": {
    "collapsed": false
   }
  },
  {
   "cell_type": "code",
   "execution_count": 87,
   "outputs": [],
   "source": [
    "df = load_data()\n",
    "df, articles_per_user, selected_users = filter_users(df, ['Familie', 'International'], min_articles=5)"
   ],
   "metadata": {
    "collapsed": false
   }
  },
  {
   "cell_type": "code",
   "execution_count": 88,
   "outputs": [
    {
     "name": "stderr",
     "output_type": "stream",
     "text": [
      "100%|██████████| 1272/1272 [00:08<00:00, 143.90it/s]\n"
     ]
    }
   ],
   "source": [
    "edge_weights = iom(selected_users, articles_per_user)\n",
    "\n",
    "# Calculate the threshold value for the top 10% of weights\n",
    "threshold = np.percentile(edge_weights.flatten(), 95)\n",
    "\n",
    "graph = build_graph(selected_users, edge_weights, threshold)"
   ],
   "metadata": {
    "collapsed": false
   }
  },
  {
   "cell_type": "code",
   "execution_count": 89,
   "outputs": [
    {
     "name": "stdout",
     "output_type": "stream",
     "text": [
      "most_common\n",
      "International    1255\n",
      "Familie            17\n",
      "Name: count, dtype: int64\n"
     ]
    }
   ],
   "source": [
    "df_category_count = most_common_category_per_user(df)\n",
    "print(df_category_count['most_common'].value_counts())"
   ],
   "metadata": {
    "collapsed": false
   }
  },
  {
   "cell_type": "code",
   "execution_count": 90,
   "outputs": [],
   "source": [
    "nx.set_node_attributes(graph, df_category_count['most_common'].to_dict(), 'category')\n",
    "nx.write_gexf(graph, '../graphs/iom_graph_familie_international.gexf')"
   ],
   "metadata": {
    "collapsed": false
   }
  },
  {
   "cell_type": "markdown",
   "source": [
    "### Using Reisen, Wissenschaft"
   ],
   "metadata": {
    "collapsed": false
   }
  },
  {
   "cell_type": "code",
   "execution_count": 91,
   "outputs": [],
   "source": [
    "df = load_data()\n",
    "df, articles_per_user, selected_users = filter_users(df, ['Reisen', 'Wissenschaft'], min_articles=5)"
   ],
   "metadata": {
    "collapsed": false
   }
  },
  {
   "cell_type": "code",
   "execution_count": 92,
   "outputs": [
    {
     "name": "stderr",
     "output_type": "stream",
     "text": [
      "100%|██████████| 262/262 [00:00<00:00, 1022.80it/s]\n"
     ]
    }
   ],
   "source": [
    "edge_weights = iom(selected_users, articles_per_user)\n",
    "\n",
    "# Calculate the threshold value for the top 10% of weights\n",
    "threshold = np.percentile(edge_weights.flatten(), 95)\n",
    "\n",
    "graph = build_graph(selected_users, edge_weights, threshold)"
   ],
   "metadata": {
    "collapsed": false
   }
  },
  {
   "cell_type": "code",
   "execution_count": 93,
   "outputs": [
    {
     "name": "stdout",
     "output_type": "stream",
     "text": [
      "most_common\n",
      "Wissenschaft    239\n",
      "Reisen           23\n",
      "Name: count, dtype: int64\n"
     ]
    }
   ],
   "source": [
    "df_category_count = most_common_category_per_user(df)\n",
    "print(df_category_count['most_common'].value_counts())"
   ],
   "metadata": {
    "collapsed": false
   }
  },
  {
   "cell_type": "code",
   "execution_count": 94,
   "outputs": [],
   "source": [
    "nx.set_node_attributes(graph, df_category_count['most_common'].to_dict(), 'category')\n",
    "nx.write_gexf(graph, '../graphs/iom_graph_reisen_wissenschaft.gexf')"
   ],
   "metadata": {
    "collapsed": false
   }
  },
  {
   "cell_type": "markdown",
   "source": [],
   "metadata": {
    "collapsed": false
   }
  },
  {
   "cell_type": "markdown",
   "source": [],
   "metadata": {
    "collapsed": false
   }
  },
  {
   "cell_type": "markdown",
   "source": [
    "### Using Lifestyle, Gesundheit"
   ],
   "metadata": {
    "collapsed": false
   }
  },
  {
   "cell_type": "code",
   "execution_count": 95,
   "outputs": [],
   "source": [
    "df = load_data()\n",
    "df, articles_per_user, selected_users = filter_users(df, ['Lifestyle', 'Gesundheit'], min_articles=5)"
   ],
   "metadata": {
    "collapsed": false
   }
  },
  {
   "cell_type": "code",
   "execution_count": 96,
   "outputs": [
    {
     "name": "stderr",
     "output_type": "stream",
     "text": [
      "100%|██████████| 322/322 [00:00<00:00, 1002.89it/s]\n"
     ]
    }
   ],
   "source": [
    "edge_weights = iom(selected_users, articles_per_user)\n",
    "\n",
    "# Calculate the threshold value for the top 10% of weights\n",
    "threshold = np.percentile(edge_weights.flatten(), 95)\n",
    "\n",
    "graph = build_graph(selected_users, edge_weights, threshold)"
   ],
   "metadata": {
    "collapsed": false
   }
  },
  {
   "cell_type": "code",
   "execution_count": 97,
   "outputs": [
    {
     "name": "stdout",
     "output_type": "stream",
     "text": [
      "most_common\n",
      "Lifestyle     181\n",
      "Gesundheit    141\n",
      "Name: count, dtype: int64\n"
     ]
    }
   ],
   "source": [
    "df_category_count = most_common_category_per_user(df)\n",
    "print(df_category_count['most_common'].value_counts())"
   ],
   "metadata": {
    "collapsed": false
   }
  },
  {
   "cell_type": "code",
   "execution_count": 98,
   "outputs": [],
   "source": [
    "nx.set_node_attributes(graph, df_category_count['most_common'].to_dict(), 'category')\n",
    "nx.write_gexf(graph, '../graphs/iom_graph_lifestyle_gesundheit.gexf')"
   ],
   "metadata": {
    "collapsed": false
   }
  },
  {
   "cell_type": "markdown",
   "source": [
    "### Using Bildung, Wissenschaft"
   ],
   "metadata": {
    "collapsed": false
   }
  },
  {
   "cell_type": "code",
   "execution_count": 99,
   "outputs": [],
   "source": [
    "df = load_data()\n",
    "df, articles_per_user, selected_users = filter_users(df, ['Bildung', 'Wissenschaft'], min_articles=5)"
   ],
   "metadata": {
    "collapsed": false
   }
  },
  {
   "cell_type": "code",
   "execution_count": 100,
   "outputs": [
    {
     "name": "stderr",
     "output_type": "stream",
     "text": [
      "100%|██████████| 315/315 [00:00<00:00, 823.25it/s]\n"
     ]
    }
   ],
   "source": [
    "edge_weights = iom(selected_users, articles_per_user)\n",
    "\n",
    "# Calculate the threshold value for the top 10% of weights\n",
    "threshold = np.percentile(edge_weights.flatten(), 95)\n",
    "\n",
    "graph = build_graph(selected_users, edge_weights, threshold)"
   ],
   "metadata": {
    "collapsed": false
   }
  },
  {
   "cell_type": "code",
   "execution_count": 101,
   "outputs": [
    {
     "name": "stdout",
     "output_type": "stream",
     "text": [
      "most_common\n",
      "Wissenschaft    246\n",
      "Bildung          69\n",
      "Name: count, dtype: int64\n"
     ]
    }
   ],
   "source": [
    "df_category_count = most_common_category_per_user(df)\n",
    "print(df_category_count['most_common'].value_counts())"
   ],
   "metadata": {
    "collapsed": false
   }
  },
  {
   "cell_type": "code",
   "execution_count": 102,
   "outputs": [],
   "source": [
    "nx.set_node_attributes(graph, df_category_count['most_common'].to_dict(), 'category')\n",
    "nx.write_gexf(graph, '../graphs/iom_graph_bidlung_wissenschaft.gexf')"
   ],
   "metadata": {
    "collapsed": false
   }
  },
  {
   "cell_type": "markdown",
   "source": [
    "### Using Lifestyle, Gesundheit, Familie"
   ],
   "metadata": {
    "collapsed": false
   }
  },
  {
   "cell_type": "code",
   "execution_count": 103,
   "outputs": [],
   "source": [
    "df = load_data()\n",
    "df, articles_per_user, selected_users = filter_users(df, ['Lifestyle','Gesundheit', 'Familie'], min_articles=5)"
   ],
   "metadata": {
    "collapsed": false
   }
  },
  {
   "cell_type": "code",
   "execution_count": 104,
   "outputs": [
    {
     "name": "stderr",
     "output_type": "stream",
     "text": [
      "100%|██████████| 109/109 [00:00<00:00, 3778.50it/s]\n"
     ]
    }
   ],
   "source": [
    "edge_weights = iom(selected_users, articles_per_user)\n",
    "\n",
    "# Calculate the threshold value for the top 10% of weights\n",
    "threshold = np.percentile(edge_weights.flatten(), 95)\n",
    "\n",
    "graph = build_graph(selected_users, edge_weights, threshold)"
   ],
   "metadata": {
    "collapsed": false
   }
  },
  {
   "cell_type": "code",
   "execution_count": 105,
   "outputs": [
    {
     "name": "stdout",
     "output_type": "stream",
     "text": [
      "most_common\n",
      "Gesundheit    97\n",
      "Familie       12\n",
      "Name: count, dtype: int64\n"
     ]
    }
   ],
   "source": [
    "df_category_count = most_common_category_per_user(df)\n",
    "print(df_category_count['most_common'].value_counts())"
   ],
   "metadata": {
    "collapsed": false
   }
  },
  {
   "cell_type": "code",
   "execution_count": 106,
   "outputs": [],
   "source": [
    "nx.set_node_attributes(graph, df_category_count['most_common'].to_dict(), 'category')\n",
    "nx.write_gexf(graph, '../graphs/iom_lifestyle_graph_gesundheit_familie.gexf')"
   ],
   "metadata": {
    "collapsed": false
   }
  },
  {
   "cell_type": "markdown",
   "source": [
    "### Using Etat, Inland"
   ],
   "metadata": {
    "collapsed": false
   }
  },
  {
   "cell_type": "code",
   "execution_count": 107,
   "outputs": [],
   "source": [
    "df = load_data()\n",
    "df, articles_per_user, selected_users = filter_users(df, ['Etat', 'Inland'], min_articles=5)"
   ],
   "metadata": {
    "collapsed": false
   }
  },
  {
   "cell_type": "code",
   "execution_count": 108,
   "outputs": [
    {
     "name": "stderr",
     "output_type": "stream",
     "text": [
      "100%|██████████| 4798/4798 [02:21<00:00, 33.91it/s] \n"
     ]
    }
   ],
   "source": [
    "edge_weights = iom(selected_users, articles_per_user)\n",
    "\n",
    "# Calculate the threshold value for the top 10% of weights\n",
    "threshold = np.percentile(edge_weights.flatten(), 95)\n",
    "\n",
    "graph = build_graph(selected_users, edge_weights, threshold)"
   ],
   "metadata": {
    "collapsed": false
   }
  },
  {
   "cell_type": "code",
   "execution_count": 110,
   "outputs": [
    {
     "name": "stdout",
     "output_type": "stream",
     "text": [
      "most_common\n",
      "Inland    4490\n",
      "Etat       308\n",
      "Name: count, dtype: int64\n",
      "most_common\n",
      "Inland    4490\n",
      "Etat       308\n",
      "Name: count, dtype: int64\n"
     ]
    }
   ],
   "source": [
    "df_category_count = most_common_category_per_user(df)\n",
    "print(df_category_count['most_common'].value_counts())"
   ],
   "metadata": {
    "collapsed": false
   }
  },
  {
   "cell_type": "code",
   "execution_count": 111,
   "outputs": [],
   "source": [
    "nx.set_node_attributes(graph, df_category_count['most_common'].to_dict(), 'category')\n",
    "nx.write_gexf(graph, '../graphs/iom_graph_etat_inland.gexf')"
   ],
   "metadata": {
    "collapsed": false
   }
  },
  {
   "cell_type": "markdown",
   "source": [
    "### Using User, Meinung"
   ],
   "metadata": {
    "collapsed": false
   }
  },
  {
   "cell_type": "code",
   "execution_count": 112,
   "outputs": [],
   "source": [
    "df = load_data()\n",
    "df, articles_per_user, selected_users = filter_users(df, ['User', 'Meinung'], min_articles=5)"
   ],
   "metadata": {
    "collapsed": false
   }
  },
  {
   "cell_type": "code",
   "execution_count": 113,
   "outputs": [
    {
     "name": "stderr",
     "output_type": "stream",
     "text": [
      "100%|██████████| 2350/2350 [00:28<00:00, 83.00it/s] \n"
     ]
    }
   ],
   "source": [
    "edge_weights = iom(selected_users, articles_per_user)\n",
    "\n",
    "# Calculate the threshold value for the top 10% of weights\n",
    "threshold = np.percentile(edge_weights.flatten(), 95)\n",
    "\n",
    "graph = build_graph(selected_users, edge_weights, threshold)"
   ],
   "metadata": {
    "collapsed": false
   }
  },
  {
   "cell_type": "code",
   "execution_count": 114,
   "outputs": [
    {
     "name": "stdout",
     "output_type": "stream",
     "text": [
      "most_common\n",
      "Meinung    2274\n",
      "User         76\n",
      "Name: count, dtype: int64\n"
     ]
    }
   ],
   "source": [
    "df_category_count = most_common_category_per_user(df)\n",
    "print(df_category_count['most_common'].value_counts())"
   ],
   "metadata": {
    "collapsed": false
   }
  },
  {
   "cell_type": "code",
   "execution_count": 115,
   "outputs": [],
   "source": [
    "nx.set_node_attributes(graph, df_category_count['most_common'].to_dict(), 'category')\n",
    "nx.write_gexf(graph, '../graphs/iom_graph_meinung_user.gexf')"
   ],
   "metadata": {
    "collapsed": false
   }
  },
  {
   "cell_type": "markdown",
   "source": [
    "### Using Inland, Wirtschaft, International"
   ],
   "metadata": {
    "collapsed": false
   }
  },
  {
   "cell_type": "code",
   "execution_count": 130,
   "outputs": [],
   "source": [
    "df = load_data()\n",
    "df, articles_per_user, selected_users = filter_users(df, ['Inland','Wirtschaft', 'International'], min_articles=5)"
   ],
   "metadata": {
    "collapsed": false
   }
  },
  {
   "cell_type": "code",
   "execution_count": 131,
   "outputs": [
    {
     "name": "stderr",
     "output_type": "stream",
     "text": [
      "100%|██████████| 5795/5795 [04:53<00:00, 19.72it/s] \n"
     ]
    }
   ],
   "source": [
    "edge_weights = iom(selected_users, articles_per_user)\n",
    "\n",
    "# Calculate the threshold value for the top 10% of weights\n",
    "threshold = np.percentile(edge_weights.flatten(), 95)\n",
    "\n",
    "graph = build_graph(selected_users, edge_weights, threshold)"
   ],
   "metadata": {
    "collapsed": false
   }
  },
  {
   "cell_type": "code",
   "execution_count": 132,
   "outputs": [
    {
     "name": "stdout",
     "output_type": "stream",
     "text": [
      "most_common\n",
      "Inland           4721\n",
      "International     540\n",
      "Wirtschaft        534\n",
      "Name: count, dtype: int64\n"
     ]
    }
   ],
   "source": [
    "df_category_count = most_common_category_per_user(df)\n",
    "print(df_category_count['most_common'].value_counts())"
   ],
   "metadata": {
    "collapsed": false
   }
  },
  {
   "cell_type": "code",
   "execution_count": 133,
   "outputs": [],
   "source": [
    "nx.set_node_attributes(graph, df_category_count['most_common'].to_dict(), 'category')\n",
    "nx.write_gexf(graph, '../graphs/iom_graph_inland_wirtschaft_international.gexf')"
   ],
   "metadata": {
    "collapsed": false
   }
  },
  {
   "cell_type": "markdown",
   "source": [],
   "metadata": {
    "collapsed": false
   }
  },
  {
   "cell_type": "markdown",
   "source": [],
   "metadata": {
    "collapsed": false
   }
  },
  {
   "cell_type": "markdown",
   "source": [
    "### Using AutoMobil, Immobilien"
   ],
   "metadata": {
    "collapsed": false
   }
  },
  {
   "cell_type": "code",
   "execution_count": 126,
   "outputs": [],
   "source": [
    "df = load_data()\n",
    "df, articles_per_user, selected_users = filter_users(df, ['AutoMobil', 'Immobilien'], min_articles=5)"
   ],
   "metadata": {
    "collapsed": false
   }
  },
  {
   "cell_type": "code",
   "execution_count": 127,
   "outputs": [
    {
     "name": "stderr",
     "output_type": "stream",
     "text": [
      "100%|██████████| 81/81 [00:00<00:00, 2828.96it/s]\n"
     ]
    }
   ],
   "source": [
    "edge_weights = iom(selected_users, articles_per_user)\n",
    "\n",
    "# Calculate the threshold value for the top 10% of weights\n",
    "threshold = np.percentile(edge_weights.flatten(), 95)\n",
    "\n",
    "graph = build_graph(selected_users, edge_weights, threshold)"
   ],
   "metadata": {
    "collapsed": false
   }
  },
  {
   "cell_type": "code",
   "execution_count": 128,
   "outputs": [
    {
     "name": "stdout",
     "output_type": "stream",
     "text": [
      "most_common\n",
      "AutoMobil     49\n",
      "Immobilien    32\n",
      "Name: count, dtype: int64\n"
     ]
    }
   ],
   "source": [
    "df_category_count = most_common_category_per_user(df)\n",
    "print(df_category_count['most_common'].value_counts())"
   ],
   "metadata": {
    "collapsed": false
   }
  },
  {
   "cell_type": "code",
   "execution_count": 129,
   "outputs": [],
   "source": [
    "nx.set_node_attributes(graph, df_category_count['most_common'].to_dict(), 'category')\n",
    "nx.write_gexf(graph, '../graphs/iom_graph_automobil_immobilien.gexf')"
   ],
   "metadata": {
    "collapsed": false
   }
  },
  {
   "cell_type": "markdown",
   "source": [
    "### Using Bildung, Zukunft"
   ],
   "metadata": {
    "collapsed": false
   }
  },
  {
   "cell_type": "code",
   "execution_count": 122,
   "outputs": [],
   "source": [
    "df = load_data()\n",
    "df, articles_per_user, selected_users = filter_users(df, ['Bildung', 'Zukunft'], min_articles=5)"
   ],
   "metadata": {
    "collapsed": false
   }
  },
  {
   "cell_type": "code",
   "execution_count": 123,
   "outputs": [
    {
     "name": "stderr",
     "output_type": "stream",
     "text": [
      "100%|██████████| 59/59 [00:00<00:00, 6458.16it/s]\n"
     ]
    }
   ],
   "source": [
    "edge_weights = iom(selected_users, articles_per_user)\n",
    "\n",
    "# Calculate the threshold value for the top 10% of weights\n",
    "threshold = np.percentile(edge_weights.flatten(), 95)\n",
    "\n",
    "graph = build_graph(selected_users, edge_weights, threshold)"
   ],
   "metadata": {
    "collapsed": false
   }
  },
  {
   "cell_type": "code",
   "execution_count": 124,
   "outputs": [
    {
     "name": "stdout",
     "output_type": "stream",
     "text": [
      "most_common\n",
      "Bildung    43\n",
      "Zukunft    16\n",
      "Name: count, dtype: int64\n"
     ]
    }
   ],
   "source": [
    "df_category_count = most_common_category_per_user(df)\n",
    "print(df_category_count['most_common'].value_counts())"
   ],
   "metadata": {
    "collapsed": false
   }
  },
  {
   "cell_type": "code",
   "execution_count": 125,
   "outputs": [],
   "source": [
    "nx.set_node_attributes(graph, df_category_count['most_common'].to_dict(), 'category')\n",
    "nx.write_gexf(graph, '../graphs/iom_graph_bildung_zukunft.gexf')"
   ],
   "metadata": {
    "collapsed": false
   }
  },
  {
   "cell_type": "markdown",
   "source": [],
   "metadata": {
    "collapsed": false
   }
  },
  {
   "cell_type": "markdown",
   "source": [
    "### Using all except inland, panorama, meinung"
   ],
   "metadata": {
    "collapsed": false
   }
  },
  {
   "cell_type": "code",
   "execution_count": 7,
   "outputs": [],
   "source": [
    "df = load_data()\n",
    "df, articles_per_user, selected_users = filter_users(df, ['Web', 'International','Wirtschaft','Sport','Etat','Kultur','User','Wissenschaft','Lifestyle','Gesundheit','Bildung','dieStandard','AutoMobil','Immobilien','Diverses','Zukunft','Reisen','Familie','Karriere'], min_articles=5)"
   ],
   "metadata": {
    "collapsed": false
   }
  },
  {
   "cell_type": "code",
   "execution_count": 8,
   "outputs": [
    {
     "name": "stderr",
     "output_type": "stream",
     "text": [
      "100%|██████████| 7146/7146 [02:21<00:00, 50.47it/s] \n"
     ]
    }
   ],
   "source": [
    "edge_weights = iom(selected_users, articles_per_user)\n",
    "\n",
    "# Calculate the threshold value for the top 10% of weights\n",
    "threshold = np.percentile(edge_weights.flatten(), 95)\n",
    "\n",
    "graph = build_graph(selected_users, edge_weights, threshold)"
   ],
   "metadata": {
    "collapsed": false
   }
  },
  {
   "cell_type": "code",
   "execution_count": 9,
   "outputs": [
    {
     "name": "stdout",
     "output_type": "stream",
     "text": [
      "most_common\n",
      "Web              1539\n",
      "International    1286\n",
      "Sport            1069\n",
      "Wirtschaft       1059\n",
      "Etat              794\n",
      "Kultur            384\n",
      "Gesundheit        157\n",
      "Lifestyle         155\n",
      "Bildung           110\n",
      "Wissenschaft      109\n",
      "AutoMobil         100\n",
      "User               96\n",
      "dieStandard        87\n",
      "Immobilien         53\n",
      "Diverses           49\n",
      "Familie            32\n",
      "Karriere           25\n",
      "Reisen             22\n",
      "Zukunft            20\n",
      "Name: count, dtype: int64\n"
     ]
    }
   ],
   "source": [
    "df_category_count = most_common_category_per_user(df)\n",
    "print(df_category_count['most_common'].value_counts())"
   ],
   "metadata": {
    "collapsed": false
   }
  },
  {
   "cell_type": "code",
   "execution_count": 10,
   "outputs": [],
   "source": [
    "nx.set_node_attributes(graph, df_category_count['most_common'].to_dict(), 'category')\n",
    "nx.write_gexf(graph, '../graphs/iom_graph_alle_ex_InPaMe.gexf')"
   ],
   "metadata": {
    "collapsed": false
   }
  },
  {
   "cell_type": "code",
   "execution_count": null,
   "outputs": [],
   "source": [],
   "metadata": {
    "collapsed": false
   }
  },
  {
   "cell_type": "markdown",
   "source": [],
   "metadata": {
    "collapsed": false
   }
  },
  {
   "cell_type": "markdown",
   "source": [
    "### Using all except inland"
   ],
   "metadata": {
    "collapsed": false
   }
  },
  {
   "cell_type": "code",
   "execution_count": 11,
   "outputs": [],
   "source": [
    "df = load_data()\n",
    "df, articles_per_user, selected_users = filter_users(df, ['Panorama','Meinung','Web', 'International','Wirtschaft','Sport','Etat','Kultur','User','Wissenschaft','Lifestyle','Gesundheit','Bildung','dieStandard','AutoMobil','Immobilien','Diverses','Zukunft','Reisen','Familie','Karriere'], min_articles=5)"
   ],
   "metadata": {
    "collapsed": false
   }
  },
  {
   "cell_type": "code",
   "execution_count": 12,
   "outputs": [
    {
     "name": "stderr",
     "output_type": "stream",
     "text": [
      "100%|██████████| 9014/9014 [04:54<00:00, 30.56it/s] \n"
     ]
    }
   ],
   "source": [
    "edge_weights = iom(selected_users, articles_per_user)\n",
    "\n",
    "# Calculate the threshold value for the top 10% of weights\n",
    "threshold = np.percentile(edge_weights.flatten(), 95)\n",
    "\n",
    "graph = build_graph(selected_users, edge_weights, threshold)"
   ],
   "metadata": {
    "collapsed": false
   }
  },
  {
   "cell_type": "code",
   "execution_count": 13,
   "outputs": [
    {
     "name": "stdout",
     "output_type": "stream",
     "text": [
      "most_common\n",
      "Meinung          2191\n",
      "Panorama         2063\n",
      "Web              1117\n",
      "Sport             928\n",
      "International     774\n",
      "Wirtschaft        584\n",
      "Etat              456\n",
      "Kultur            214\n",
      "Gesundheit        121\n",
      "Lifestyle         119\n",
      "AutoMobil          77\n",
      "User               65\n",
      "Wissenschaft       65\n",
      "Bildung            56\n",
      "dieStandard        55\n",
      "Immobilien         39\n",
      "Diverses           28\n",
      "Familie            21\n",
      "Zukunft            15\n",
      "Reisen             14\n",
      "Karriere           12\n",
      "Name: count, dtype: int64\n"
     ]
    }
   ],
   "source": [
    "df_category_count = most_common_category_per_user(df)\n",
    "print(df_category_count['most_common'].value_counts())"
   ],
   "metadata": {
    "collapsed": false
   }
  },
  {
   "cell_type": "code",
   "execution_count": 14,
   "outputs": [],
   "source": [
    "nx.set_node_attributes(graph, df_category_count['most_common'].to_dict(), 'category')\n",
    "nx.write_gexf(graph, '../graphs/iom_graph_alle_ex_In.gexf')"
   ],
   "metadata": {
    "collapsed": false
   }
  },
  {
   "cell_type": "markdown",
   "source": [
    "### Using all"
   ],
   "metadata": {
    "collapsed": false
   }
  },
  {
   "cell_type": "code",
   "execution_count": 15,
   "outputs": [],
   "source": [
    "df = load_data()\n",
    "df, articles_per_user, selected_users = filter_users(df, ['Inland','Panorama','Meinung','Web', 'International','Wirtschaft','Sport','Etat','Kultur','User','Wissenschaft','Lifestyle','Gesundheit','Bildung','dieStandard','AutoMobil','Immobilien','Diverses','Zukunft','Reisen','Familie','Karriere'], min_articles=5)"
   ],
   "metadata": {
    "collapsed": false
   }
  },
  {
   "cell_type": "code",
   "execution_count": 16,
   "outputs": [
    {
     "name": "stderr",
     "output_type": "stream",
     "text": [
      "100%|██████████| 10319/10319 [08:47<00:00, 19.54it/s] \n"
     ]
    }
   ],
   "source": [
    "edge_weights = iom(selected_users, articles_per_user)\n",
    "\n",
    "# Calculate the threshold value for the top 10% of weights\n",
    "threshold = np.percentile(edge_weights.flatten(), 95)\n",
    "\n",
    "graph = build_graph(selected_users, edge_weights, threshold)"
   ],
   "metadata": {
    "collapsed": false
   }
  },
  {
   "cell_type": "code",
   "execution_count": 17,
   "outputs": [
    {
     "name": "stdout",
     "output_type": "stream",
     "text": [
      "most_common\n",
      "Inland           4317\n",
      "Panorama         1319\n",
      "Meinung           998\n",
      "Web               885\n",
      "Sport             828\n",
      "International     505\n",
      "Wirtschaft        407\n",
      "Etat              342\n",
      "Kultur            133\n",
      "Gesundheit        110\n",
      "Lifestyle          85\n",
      "AutoMobil          66\n",
      "User               59\n",
      "Wissenschaft       54\n",
      "dieStandard        52\n",
      "Bildung            40\n",
      "Immobilien         35\n",
      "Familie            22\n",
      "Diverses           20\n",
      "Zukunft            15\n",
      "Reisen             15\n",
      "Karriere           12\n",
      "Name: count, dtype: int64\n"
     ]
    }
   ],
   "source": [
    "df_category_count = most_common_category_per_user(df)\n",
    "print(df_category_count['most_common'].value_counts())"
   ],
   "metadata": {
    "collapsed": false
   }
  },
  {
   "cell_type": "code",
   "execution_count": 18,
   "outputs": [],
   "source": [
    "nx.set_node_attributes(graph, df_category_count['most_common'].to_dict(), 'category')\n",
    "nx.write_gexf(graph, '../graphs/iom_graph_all.gexf')"
   ],
   "metadata": {
    "collapsed": false
   }
  },
  {
   "cell_type": "code",
   "execution_count": null,
   "outputs": [],
   "source": [],
   "metadata": {
    "collapsed": false
   }
  }
 ],
 "metadata": {
  "kernelspec": {
   "display_name": ".venv",
   "language": "python",
   "name": "python3"
  },
  "language_info": {
   "codemirror_mode": {
    "name": "ipython",
    "version": 3
   },
   "file_extension": ".py",
   "mimetype": "text/x-python",
   "name": "python",
   "nbconvert_exporter": "python",
   "pygments_lexer": "ipython3",
   "version": "3.10.12"
  }
 },
 "nbformat": 4,
 "nbformat_minor": 2
}
