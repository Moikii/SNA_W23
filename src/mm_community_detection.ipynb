{
 "cells": [
  {
   "cell_type": "code",
   "execution_count": 1,
   "metadata": {},
   "outputs": [],
   "source": [
    "import pandas as pd\n",
    "import numpy as np\n",
    "from tqdm import tqdm\n",
    "import matplotlib.pyplot as plt\n",
    "import networkx as nx\n",
    "from utils import *"
   ]
  },
  {
   "cell_type": "code",
   "execution_count": 2,
   "metadata": {},
   "outputs": [],
   "source": [
    "%load_ext autoreload\n",
    "%autoreload 2"
   ]
  },
  {
   "cell_type": "code",
   "execution_count": 3,
   "metadata": {},
   "outputs": [
    {
     "data": {
      "text/plain": [
       "array(['Inland', 'Meinung', 'International', 'Sport', 'Panorama',\n",
       "       'Wirtschaft', 'Gesundheit', 'Web', 'Kultur', 'Bildung',\n",
       "       'Wissenschaft', 'Immobilien', 'User', 'dieStandard', 'Etat',\n",
       "       'Zukunft', 'Karriere', 'Lifestyle', 'Diverses', 'Reisen',\n",
       "       'AutoMobil', 'Familie'], dtype=object)"
      ]
     },
     "execution_count": 3,
     "metadata": {},
     "output_type": "execute_result"
    }
   ],
   "source": [
    "df = load_data()\n",
    "df['ArticleChannel'].unique()"
   ]
  },
  {
   "cell_type": "code",
   "execution_count": 4,
   "metadata": {},
   "outputs": [
    {
     "name": "stdout",
     "output_type": "stream",
     "text": [
      "Number of selected users: 1620\n"
     ]
    }
   ],
   "source": [
    "# select categories to analyze\n",
    "channels = ['Sport', 'Meinung']\n",
    "\n",
    "filtered_df, articles_per_user, selected_users = filter_users(df, channels, min_articles=10)\n",
    "print(f\"Number of selected users: {len(selected_users)}\")"
   ]
  },
  {
   "cell_type": "code",
   "execution_count": 5,
   "metadata": {},
   "outputs": [
    {
     "name": "stderr",
     "output_type": "stream",
     "text": [
      "  0%|          | 0/1620 [00:00<?, ?it/s]"
     ]
    },
    {
     "name": "stderr",
     "output_type": "stream",
     "text": [
      "100%|██████████| 1620/1620 [00:22<00:00, 70.90it/s] \n"
     ]
    }
   ],
   "source": [
    "# create graph\n",
    "weights = iom(selected_users, articles_per_user)\n",
    "threshold = np.percentile(weights.flatten(), 95)\n",
    "graph = build_graph(selected_users, weights, 0.2)"
   ]
  },
  {
   "cell_type": "code",
   "execution_count": 6,
   "metadata": {},
   "outputs": [
    {
     "name": "stdout",
     "output_type": "stream",
     "text": [
      "ArticleChannel\n",
      "Meinung    0.676501\n",
      "Sport      0.323499\n",
      "Name: count, dtype: float64\n"
     ]
    }
   ],
   "source": [
    "# print distribution of comments in the selected categories\n",
    "category_comments_percentage = filtered_df['ArticleChannel'].value_counts().div(len(filtered_df))\n",
    "print(category_comments_percentage)"
   ]
  },
  {
   "cell_type": "code",
   "execution_count": 7,
   "metadata": {},
   "outputs": [],
   "source": [
    "# save graph for gephi\n",
    "# category_count_df = most_common_category_per_user(filtered_df)\n",
    "# nx.set_node_attributes(graph, category_count_df['most_common'].to_dict(), 'category')\n",
    "# nx.write_gexf(graph, '../graph/iom_graph_sport_wissenschaft.gexf')"
   ]
  },
  {
   "cell_type": "code",
   "execution_count": 8,
   "metadata": {},
   "outputs": [
    {
     "name": "stdout",
     "output_type": "stream",
     "text": [
      "Number of communities: 3\n",
      " Sizes of the communities: [1014, 600, 6]\n"
     ]
    }
   ],
   "source": [
    "communities = nx.community.modularity_max.greedy_modularity_communities(graph, 'weight')\n",
    "print(f\"Number of communities: {len(communities)}\")\n",
    "print(f\" Sizes of the communities: {[len(c) for c in communities]}\")"
   ]
  },
  {
   "cell_type": "code",
   "execution_count": 25,
   "metadata": {},
   "outputs": [
    {
     "data": {
      "text/html": [
       "<div>\n",
       "<style scoped>\n",
       "    .dataframe tbody tr th:only-of-type {\n",
       "        vertical-align: middle;\n",
       "    }\n",
       "\n",
       "    .dataframe tbody tr th {\n",
       "        vertical-align: top;\n",
       "    }\n",
       "\n",
       "    .dataframe thead th {\n",
       "        text-align: right;\n",
       "    }\n",
       "</style>\n",
       "<table border=\"1\" class=\"dataframe\">\n",
       "  <thead>\n",
       "    <tr style=\"text-align: right;\">\n",
       "      <th></th>\n",
       "      <th>Meinung</th>\n",
       "      <th>Sport</th>\n",
       "    </tr>\n",
       "  </thead>\n",
       "  <tbody>\n",
       "    <tr>\n",
       "      <th>0</th>\n",
       "      <td>0.956166</td>\n",
       "      <td>0.043834</td>\n",
       "    </tr>\n",
       "    <tr>\n",
       "      <th>1</th>\n",
       "      <td>0.193617</td>\n",
       "      <td>0.806383</td>\n",
       "    </tr>\n",
       "    <tr>\n",
       "      <th>2</th>\n",
       "      <td>0.694836</td>\n",
       "      <td>0.305164</td>\n",
       "    </tr>\n",
       "  </tbody>\n",
       "</table>\n",
       "</div>"
      ],
      "text/plain": [
       "    Meinung     Sport\n",
       "0  0.956166  0.043834\n",
       "1  0.193617  0.806383\n",
       "2  0.694836  0.305164"
      ]
     },
     "execution_count": 25,
     "metadata": {},
     "output_type": "execute_result"
    }
   ],
   "source": [
    "# generate dataframe with number of comments (or a weighted variant, if normalized) per category for each community\n",
    "community_comments_df = comments_in_category_per_community(communities,\n",
    "                                                           filtered_df,\n",
    "                                                           percentage=True,\n",
    "                                                           weight_by_category_distribution=False)\n",
    "community_comments_df.head(5)"
   ]
  },
  {
   "cell_type": "code",
   "execution_count": 26,
   "metadata": {},
   "outputs": [
    {
     "data": {
      "image/png": "[encoded data removed]",
      "text/plain": [
       "<Figure size 640x480 with 1 Axes>"
      ]
     },
     "metadata": {},
     "output_type": "display_data"
    }
   ],
   "source": [
    "# plot and save results\n",
    "plot = community_comments_df.plot(kind='bar',\n",
    "                                  stacked=True,\n",
    "                                  colormap='Paired',\n",
    "                                  xlabel='Community ',\n",
    "                                  ylabel='Category of comments (in %)').legend(bbox_to_anchor=(1.0, 1.0), fontsize='small')\n",
    "\n",
    "fig = plot.get_figure()\n",
    "fig.savefig('../plots/test.svg')"
   ]
  },
  {
   "cell_type": "code",
   "execution_count": null,
   "metadata": {},
   "outputs": [],
   "source": [
    "#TODO: measures to compare results of algorithms"
   ]
  }
 ],
 "metadata": {
  "kernelspec": {
   "display_name": ".venv",
   "language": "python",
   "name": "python3"
  },
  "language_info": {
   "codemirror_mode": {
    "name": "ipython",
    "version": 3
   },
   "file_extension": ".py",
   "mimetype": "text/x-python",
   "name": "python",
   "nbconvert_exporter": "python",
   "pygments_lexer": "ipython3",
   "version": "3.10.12"
  }
 },
 "nbformat": 4,
 "nbformat_minor": 2
}
